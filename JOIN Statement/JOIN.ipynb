{
 "cells": [
  {
   "cell_type": "code",
   "execution_count": 17,
   "id": "022ebf58",
   "metadata": {},
   "outputs": [],
   "source": [
    "import sqlalchemy\n",
    "from sqlalchemy import create_engine, text\n",
    "from tabulate import tabulate"
   ]
  },
  {
   "cell_type": "code",
   "execution_count": 3,
   "id": "d884a0c2",
   "metadata": {},
   "outputs": [],
   "source": [
    "DB_USER = \"myuser\"\n",
    "DB_PASS = \"mypassword\"\n",
    "DB_HOST = \"localhost\"\n",
    "DB_PORT = \"5432\"\n",
    "DB_NAME = \"mydb\""
   ]
  },
  {
   "cell_type": "code",
   "execution_count": 4,
   "id": "ee483e0e",
   "metadata": {},
   "outputs": [],
   "source": [
    "DATABASE_URL = f\"postgresql://{DB_USER}:{DB_PASS}@{DB_HOST}:{DB_PORT}/{DB_NAME}\""
   ]
  },
  {
   "cell_type": "code",
   "execution_count": 5,
   "id": "90ee937a",
   "metadata": {},
   "outputs": [],
   "source": [
    "engine = create_engine(DATABASE_URL)"
   ]
  },
  {
   "cell_type": "code",
   "execution_count": 6,
   "id": "ccc690c0",
   "metadata": {},
   "outputs": [],
   "source": [
    "# Function to execute SQL statements safely\n",
    "def execute_sql(sql_statement):\n",
    "    try:\n",
    "        with engine.connect() as connection:\n",
    "            connection.execute(text(sql_statement))\n",
    "            connection.commit()\n",
    "            print(f\"SQL statement executed successfully:\\n{sql_statement}\")\n",
    "    except sqlalchemy.exc.ProgrammingError as e:\n",
    "        print(f\"Error executing SQL statement:\\n{sql_statement}\\nError: {e}\")\n",
    "    except Exception as e:\n",
    "        print(f\"An unexpected error occurred:\\n{sql_statement}\\nError: {e}\")"
   ]
  },
  {
   "cell_type": "code",
   "execution_count": 31,
   "id": "f7a3ff3e",
   "metadata": {},
   "outputs": [],
   "source": [
    "try:\n",
    "    with engine.connect() as connection:\n",
    "        connection.execute(text(\"DROP TABLE Customers CASCADE;\"))\n",
    "        \n",
    "        connection.commit()\n",
    "\n",
    "except Exception as e:\n",
    "    print(\"Error querying table:\", e)"
   ]
  },
  {
   "cell_type": "code",
   "execution_count": 32,
   "id": "03fca1f7",
   "metadata": {},
   "outputs": [
    {
     "name": "stdout",
     "output_type": "stream",
     "text": [
      "SQL statement executed successfully:\n",
      "\n",
      "    CREATE TABLE Customers (\n",
      "        CustomerID SERIAL PRIMARY KEY,\n",
      "        FirstName VARCHAR(255),\n",
      "        LastName VARCHAR(255)\n",
      "    );\n",
      "\n"
     ]
    }
   ],
   "source": [
    "execute_sql(\"\"\"\n",
    "    CREATE TABLE Customers (\n",
    "        CustomerID SERIAL PRIMARY KEY,\n",
    "        FirstName VARCHAR(255),\n",
    "        LastName VARCHAR(255)\n",
    "    );\n",
    "\"\"\")"
   ]
  },
  {
   "cell_type": "code",
   "execution_count": 43,
   "id": "a4b2ccbc",
   "metadata": {},
   "outputs": [
    {
     "name": "stdout",
     "output_type": "stream",
     "text": [
      "SQL statement executed successfully:\n",
      "\n",
      "    CREATE TABLE Orders (\n",
      "        OrderID SERIAL PRIMARY KEY,\n",
      "        CustomerID INT REFERENCES Customers(CustomerID),\n",
      "        OrderDate DATE\n",
      "    );\n",
      "\n"
     ]
    }
   ],
   "source": [
    "execute_sql(\"\"\"\n",
    "    CREATE TABLE Orders (\n",
    "        OrderID SERIAL PRIMARY KEY,\n",
    "        CustomerID INT REFERENCES Customers(CustomerID),\n",
    "        OrderDate DATE\n",
    "    );\n",
    "\"\"\")"
   ]
  },
  {
   "cell_type": "code",
   "execution_count": null,
   "id": "9939e948",
   "metadata": {},
   "outputs": [
    {
     "name": "stdout",
     "output_type": "stream",
     "text": [
      "SQL statement executed successfully:\n",
      "\n",
      "    CREATE TABLE IF NOT EXISTS Employees (\n",
      "        EmployeeID SERIAL PRIMARY KEY,\n",
      "        EmployeeName VARCHAR(255),\n",
      "        ManagerID INT REFERENCES Employees(EmployeeID) NULL  -- Self-referencing foreign key\n",
      "    );\n",
      "\n"
     ]
    }
   ],
   "source": [
    "execute_sql(\"\"\"\n",
    "    CREATE TABLE IF NOT EXISTS Employees (\n",
    "        EmployeeID SERIAL PRIMARY KEY,\n",
    "        EmployeeName VARCHAR(255),\n",
    "        ManagerID INT REFERENCES Employees(EmployeeID) NULL\n",
    "    );\n",
    "\"\"\")"
   ]
  },
  {
   "cell_type": "markdown",
   "id": "ba3e68d0",
   "metadata": {},
   "source": [
    "## Populate tables"
   ]
  },
  {
   "cell_type": "code",
   "execution_count": 33,
   "id": "220fe8f5",
   "metadata": {},
   "outputs": [
    {
     "name": "stdout",
     "output_type": "stream",
     "text": [
      "SQL statement executed successfully:\n",
      "\n",
      "    INSERT INTO Customers (FirstName, LastName) VALUES\n",
      "    ('John', 'Doe'),\n",
      "    ('Jane', 'Smith'),\n",
      "    ('Peter', 'Jones');\n",
      "\n"
     ]
    }
   ],
   "source": [
    "execute_sql(\"\"\"\n",
    "    INSERT INTO Customers (FirstName, LastName) VALUES\n",
    "    ('John', 'Doe'),\n",
    "    ('Jane', 'Smith'),\n",
    "    ('Peter', 'Jones');\n",
    "\"\"\")"
   ]
  },
  {
   "cell_type": "code",
   "execution_count": 38,
   "id": "a9514e89",
   "metadata": {},
   "outputs": [
    {
     "name": "stdout",
     "output_type": "stream",
     "text": [
      "+--------------+-------------+------------+\n",
      "|   customerid | firstname   | lastname   |\n",
      "+==============+=============+============+\n",
      "|            1 | John        | Doe        |\n",
      "+--------------+-------------+------------+\n",
      "|            2 | Jane        | Smith      |\n",
      "+--------------+-------------+------------+\n",
      "|            3 | Peter       | Jones      |\n",
      "+--------------+-------------+------------+\n"
     ]
    }
   ],
   "source": [
    "try:\n",
    "    with engine.connect() as connection:\n",
    "     \n",
    "        result = connection.execute(text(\"SELECT * FROM Customers\"))\n",
    "\n",
    "        rows = result.fetchall()\n",
    "\n",
    "        column_names = result.keys()\n",
    "\n",
    "        table = tabulate(rows, headers=column_names, tablefmt=\"grid\")\n",
    "\n",
    "        print(table)\n",
    "\n",
    "except Exception as e:\n",
    "    print(\"Error querying table:\", e)"
   ]
  },
  {
   "cell_type": "code",
   "execution_count": 44,
   "id": "6b74d81f",
   "metadata": {},
   "outputs": [
    {
     "name": "stdout",
     "output_type": "stream",
     "text": [
      "SQL statement executed successfully:\n",
      "\n",
      "    INSERT INTO Orders (CustomerID, OrderDate) VALUES\n",
      "    (1, '2023-11-20'),\n",
      "    (1, '2023-11-21'),\n",
      "    (2, '2023-11-22');\n",
      "\n"
     ]
    }
   ],
   "source": [
    "execute_sql(\"\"\"\n",
    "    INSERT INTO Orders (CustomerID, OrderDate) VALUES\n",
    "    (1, '2023-11-20'),\n",
    "    (1, '2023-11-21'),\n",
    "    (2, '2023-11-22');\n",
    "\"\"\")"
   ]
  },
  {
   "cell_type": "code",
   "execution_count": 50,
   "id": "6bce2945",
   "metadata": {},
   "outputs": [
    {
     "name": "stdout",
     "output_type": "stream",
     "text": [
      "+-----------+--------------+-------------+\n",
      "|   orderid |   customerid | orderdate   |\n",
      "+===========+==============+=============+\n",
      "|         1 |            1 | 2023-11-20  |\n",
      "+-----------+--------------+-------------+\n",
      "|         2 |            1 | 2023-11-21  |\n",
      "+-----------+--------------+-------------+\n",
      "|         3 |            2 | 2023-11-22  |\n",
      "+-----------+--------------+-------------+\n"
     ]
    }
   ],
   "source": [
    "try:\n",
    "    with engine.connect() as connection:\n",
    "     \n",
    "        result = connection.execute(text(\"SELECT * FROM Orders\"))\n",
    "\n",
    "        rows = result.fetchall()\n",
    "\n",
    "        column_names = result.keys()\n",
    "\n",
    "        table = tabulate(rows, headers=column_names, tablefmt=\"grid\")\n",
    "\n",
    "        print(table)\n",
    "\n",
    "except Exception as e:\n",
    "    print(\"Error querying table:\", e)"
   ]
  },
  {
   "cell_type": "code",
   "execution_count": null,
   "id": "2728f44b",
   "metadata": {},
   "outputs": [
    {
     "name": "stdout",
     "output_type": "stream",
     "text": [
      "+--------------+-------------+------------+----------------------+\n",
      "|   customerid | firstname   | lastname   | email                |\n",
      "+==============+=============+============+======================+\n",
      "|            1 | John        | Doe        | john.doe@example.com |\n",
      "+--------------+-------------+------------+----------------------+\n"
     ]
    }
   ],
   "source": [
    "try:\n",
    "    with engine.connect() as connection:\n",
    "        result = connection.execute(text(\"\"\"\n",
    "            SELECT * FROM GetCustomerByID(:custID)\n",
    "        \"\"\"), {\"custID\": 1})\n",
    "\n",
    "        rows = result.fetchall()\n",
    "        column_names = result.keys()\n",
    "        table = tabulate(rows, headers=column_names, tablefmt=\"grid\")\n",
    "        print(table)\n",
    "\n",
    "except Exception as e:\n",
    "    print(\"Error using function:\", e)"
   ]
  },
  {
   "cell_type": "code",
   "execution_count": 12,
   "id": "908c3a88",
   "metadata": {},
   "outputs": [
    {
     "name": "stdout",
     "output_type": "stream",
     "text": [
      "SQL statement executed successfully:\n",
      "\n",
      "    INSERT INTO Employees (EmployeeName, ManagerID) VALUES\n",
      "    ('Alice', NULL),        -- Alice is the top-level manager\n",
      "    ('Bob', 1),            -- Bob reports to Alice\n",
      "    ('Charlie', 1),        -- Charlie reports to Alice\n",
      "    ('David', 2);          -- David reports to Bob\n",
      "\n"
     ]
    }
   ],
   "source": [
    "execute_sql(\"\"\"\n",
    "    INSERT INTO Employees (EmployeeName, ManagerID) VALUES\n",
    "    ('Alice', NULL),        -- Alice is the top-level manager\n",
    "    ('Bob', 1),            -- Bob reports to Alice\n",
    "    ('Charlie', 1),        -- Charlie reports to Alice\n",
    "    ('David', 2);          -- David reports to Bob\n",
    "\"\"\")"
   ]
  },
  {
   "cell_type": "markdown",
   "id": "3bfe2ac7",
   "metadata": {},
   "source": [
    "\n",
    "### INNER JOIN\n",
    "\n",
    "*   **Definition:** Returns rows only when there is a match in *both* tables based on the specified join condition.\n",
    "*   **Behavior:** Rows without a matching value in the other table are excluded from the result set.\n",
    "*   **Example:**\n",
    "\n",
    "    ```sql\n",
    "    SELECT Orders.OrderID, Customers.FirstName, Customers.LastName\n",
    "    FROM Orders\n",
    "    INNER JOIN Customers ON Orders.CustomerID = Customers.CustomerID;\n",
    "    ```"
   ]
  },
  {
   "cell_type": "code",
   "execution_count": 46,
   "id": "b0443b41",
   "metadata": {},
   "outputs": [
    {
     "name": "stdout",
     "output_type": "stream",
     "text": [
      "+-----------+-------------+------------+\n",
      "|   orderid | firstname   | lastname   |\n",
      "+===========+=============+============+\n",
      "|         1 | John        | Doe        |\n",
      "+-----------+-------------+------------+\n",
      "|         2 | John        | Doe        |\n",
      "+-----------+-------------+------------+\n",
      "|         3 | Jane        | Smith      |\n",
      "+-----------+-------------+------------+\n"
     ]
    }
   ],
   "source": [
    "try:\n",
    "    with engine.connect() as connection:\n",
    "        \n",
    "        result = connection.execute(text(\n",
    "                \"\"\"\n",
    "                    SELECT Orders.OrderID, Customers.FirstName, Customers.LastName\n",
    "                    FROM Orders\n",
    "                    INNER JOIN Customers ON Orders.CustomerID = Customers.CustomerID;  \n",
    "                \"\"\"\n",
    "        ))\n",
    "\n",
    "        rows = result.fetchall()\n",
    "\n",
    "        column_names = result.keys()\n",
    "\n",
    "        table = tabulate(rows, headers=column_names, tablefmt=\"grid\")\n",
    "\n",
    "        print(table)\n",
    "\n",
    "except Exception as e:\n",
    "    print(\"Error querying table:\", e)"
   ]
  },
  {
   "cell_type": "markdown",
   "id": "b1d2894c",
   "metadata": {},
   "source": [
    "### LEFT JOIN (or LEFT OUTER JOIN)\n",
    "\n",
    "*   **Definition:** Returns all rows from the *left* table and matching rows from the *right* table.\n",
    "*   **Behavior:** If there is no match in the right table for a row in the left table, the right table's columns will have `NULL` values in the result set.  All rows from the left table will be included regardless of whether there's a match in the right table.\n",
    "*   **Example:**\n",
    "\n",
    "    ```sql\n",
    "    SELECT Customers.FirstName, Customers.LastName, Orders.OrderID\n",
    "    FROM Customers\n",
    "    LEFT JOIN Orders ON Customers.CustomerID = Orders.CustomerID;\n",
    "    ```"
   ]
  },
  {
   "cell_type": "code",
   "execution_count": null,
   "id": "3345dc63",
   "metadata": {},
   "outputs": [
    {
     "name": "stdout",
     "output_type": "stream",
     "text": [
      "+-------------+------------+-----------+\n",
      "| firstname   | lastname   |   orderid |\n",
      "+=============+============+===========+\n",
      "| John        | Doe        |         1 |\n",
      "+-------------+------------+-----------+\n",
      "| John        | Doe        |         2 |\n",
      "+-------------+------------+-----------+\n",
      "| Jane        | Smith      |         3 |\n",
      "+-------------+------------+-----------+\n",
      "| Peter       | Jones      |           |\n",
      "+-------------+------------+-----------+\n"
     ]
    }
   ],
   "source": [
    "try:\n",
    "    with engine.connect() as connection:\n",
    "        \n",
    "        result = connection.execute(text(\n",
    "                \"\"\"\n",
    "                    SELECT Customers.FirstName, Customers.LastName, Orders.OrderID\n",
    "                    FROM Customers\n",
    "                    LEFT JOIN Orders ON Customers.CustomerID = Orders.CustomerID; \n",
    "                \"\"\"\n",
    "        ))\n",
    "\n",
    "        rows = result.fetchall()\n",
    "\n",
    "        column_names = result.keys()\n",
    "\n",
    "        table = tabulate(rows, headers=column_names, tablefmt=\"grid\")\n",
    "\n",
    "        print(table)\n",
    "\n",
    "except Exception as e:\n",
    "    print(\"Error querying table:\", e)"
   ]
  },
  {
   "cell_type": "markdown",
   "id": "6868d585",
   "metadata": {},
   "source": [
    "### RIGHT JOIN (or RIGHT OUTER JOIN)\n",
    "\n",
    "*   **Definition:** Returns all rows from the *right* table and matching rows from the *left* table.\n",
    "*   **Behavior:** If there is no match in the left table for a row in the right table, the left table's columns will have `NULL` values in the result set.  All rows from the right table will be included regardless of whether there's a match in the left table.\n",
    "*   **Example:**\n",
    "\n",
    "    ```sql\n",
    "    SELECT Customers.FirstName, Customers.LastName, Orders.OrderID\n",
    "    FROM Customers\n",
    "    RIGHT JOIN Orders ON Customers.CustomerID = Orders.CustomerID;\n",
    "    ```\n"
   ]
  },
  {
   "cell_type": "code",
   "execution_count": 53,
   "id": "65f0723c",
   "metadata": {},
   "outputs": [
    {
     "name": "stdout",
     "output_type": "stream",
     "text": [
      "+-------------+------------+-----------+\n",
      "| firstname   | lastname   |   orderid |\n",
      "+=============+============+===========+\n",
      "| John        | Doe        |         1 |\n",
      "+-------------+------------+-----------+\n",
      "| John        | Doe        |         2 |\n",
      "+-------------+------------+-----------+\n",
      "| Jane        | Smith      |         3 |\n",
      "+-------------+------------+-----------+\n"
     ]
    }
   ],
   "source": [
    "try:\n",
    "    with engine.connect() as connection:\n",
    "        \n",
    "        result = connection.execute(text(\n",
    "                \"\"\"\n",
    "                    SELECT Customers.FirstName, Customers.LastName, Orders.OrderID\n",
    "                    FROM Customers\n",
    "                    RIGHT JOIN Orders ON Orders.CustomerID = Customers.CustomerID;\n",
    "                \"\"\"\n",
    "        ))\n",
    "\n",
    "        rows = result.fetchall()\n",
    "\n",
    "        column_names = result.keys()\n",
    "\n",
    "        table = tabulate(rows, headers=column_names, tablefmt=\"grid\")\n",
    "\n",
    "        print(table)\n",
    "\n",
    "except Exception as e:\n",
    "    print(\"Error querying table:\", e)"
   ]
  },
  {
   "cell_type": "markdown",
   "id": "8d0a779f",
   "metadata": {},
   "source": [
    "### FULL OUTER JOIN\n",
    "\n",
    "*   **Definition:** Returns all rows when there is a match in *one* of the tables.  Combines the results of both LEFT and RIGHT joins.\n",
    "*   **Behavior:** If there is no match in the left table for a row in the right table, the left table's columns will have `NULL` values. If there is no match in the right table for a row in the left table, the right table's columns will have `NULL` values.  Includes all rows from both tables.\n",
    "*   **Example:**\n",
    "\n",
    "    ```sql\n",
    "    SELECT Customers.FirstName, Customers.LastName, Orders.OrderID\n",
    "    FROM Customers\n",
    "    FULL OUTER JOIN Orders ON Customers.CustomerID = Orders.CustomerID;\n",
    "    ```\n"
   ]
  },
  {
   "cell_type": "code",
   "execution_count": 54,
   "id": "4f181a67",
   "metadata": {},
   "outputs": [
    {
     "name": "stdout",
     "output_type": "stream",
     "text": [
      "+-------------+------------+-----------+\n",
      "| firstname   | lastname   |   orderid |\n",
      "+=============+============+===========+\n",
      "| John        | Doe        |         1 |\n",
      "+-------------+------------+-----------+\n",
      "| John        | Doe        |         2 |\n",
      "+-------------+------------+-----------+\n",
      "| Jane        | Smith      |         3 |\n",
      "+-------------+------------+-----------+\n",
      "| Peter       | Jones      |           |\n",
      "+-------------+------------+-----------+\n"
     ]
    }
   ],
   "source": [
    "try:\n",
    "    with engine.connect() as connection:\n",
    "        \n",
    "        result = connection.execute(text(\n",
    "                \"\"\"\n",
    "                    SELECT Customers.FirstName, Customers.LastName, Orders.OrderID\n",
    "                    FROM Customers\n",
    "                    FULL OUTER JOIN Orders ON Customers.CustomerID = Orders.CustomerID;\n",
    "                \"\"\"\n",
    "        ))\n",
    "\n",
    "        rows = result.fetchall()\n",
    "\n",
    "        column_names = result.keys()\n",
    "\n",
    "        table = tabulate(rows, headers=column_names, tablefmt=\"grid\")\n",
    "\n",
    "        print(table)\n",
    "\n",
    "except Exception as e:\n",
    "    print(\"Error querying table:\", e)"
   ]
  },
  {
   "cell_type": "markdown",
   "id": "9666a33e",
   "metadata": {},
   "source": [
    "### SELF JOIN\n",
    "\n",
    "*   **Definition:** Joins a table to itself. Used when there's a relationship between rows *within* the same table (often used for hierarchical data, like organizational charts or parent-child relationships).\n",
    "*   **Behavior:**  Requires using aliases for the table name to distinguish between the different instances of the table being joined.\n",
    "*   **Example:**\n",
    "\n",
    "    ```sql\n",
    "    SELECT e1.EmployeeName, e2.EmployeeName AS ManagerName\n",
    "    FROM Employees e1\n",
    "    LEFT JOIN Employees e2 ON e1.ManagerID = e2.EmployeeID;\n",
    "    ```\n",
    "\n",
    "    *   `e1`: Alias for the `Employees` table, representing an employee.\n",
    "    *   `e2`: Alias for the `Employees` table, representing the manager.\n",
    "    *   `e1.ManagerID = e2.EmployeeID`: The join condition links an employee's `ManagerID` to another employee's `EmployeeID`, establishing the manager-employee relationship.  A `LEFT JOIN` is used to include employees who don't have a manager (top-level employees)."
   ]
  },
  {
   "cell_type": "code",
   "execution_count": 55,
   "id": "d6f91af5",
   "metadata": {},
   "outputs": [
    {
     "name": "stdout",
     "output_type": "stream",
     "text": [
      "+----------------+---------------+\n",
      "| employeename   | managername   |\n",
      "+================+===============+\n",
      "| Alice          |               |\n",
      "+----------------+---------------+\n",
      "| Bob            | Alice         |\n",
      "+----------------+---------------+\n",
      "| Charlie        | Alice         |\n",
      "+----------------+---------------+\n",
      "| David          | Bob           |\n",
      "+----------------+---------------+\n"
     ]
    }
   ],
   "source": [
    "try:\n",
    "    with engine.connect() as connection:\n",
    "        \n",
    "        result = connection.execute(text(\n",
    "                \"\"\"\n",
    "                    SELECT e1.EmployeeName, e2.EmployeeName AS ManagerName\n",
    "                    FROM Employees e1\n",
    "                    LEFT JOIN Employees e2 ON e1.ManagerID = e2.EmployeeID;\n",
    "                \"\"\"\n",
    "        ))\n",
    "\n",
    "        rows = result.fetchall()\n",
    "\n",
    "        column_names = result.keys()\n",
    "\n",
    "        table = tabulate(rows, headers=column_names, tablefmt=\"grid\")\n",
    "\n",
    "        print(table)\n",
    "\n",
    "except Exception as e:\n",
    "    print(\"Error querying table:\", e)"
   ]
  }
 ],
 "metadata": {
  "kernelspec": {
   "display_name": "Python 3",
   "language": "python",
   "name": "python3"
  },
  "language_info": {
   "codemirror_mode": {
    "name": "ipython",
    "version": 3
   },
   "file_extension": ".py",
   "mimetype": "text/x-python",
   "name": "python",
   "nbconvert_exporter": "python",
   "pygments_lexer": "ipython3",
   "version": "3.12.3"
  }
 },
 "nbformat": 4,
 "nbformat_minor": 5
}
