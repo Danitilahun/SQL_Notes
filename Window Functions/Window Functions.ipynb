{
 "cells": [
  {
   "cell_type": "code",
   "execution_count": 7,
   "id": "a3acf80b",
   "metadata": {},
   "outputs": [],
   "source": [
    "import sqlalchemy\n",
    "from sqlalchemy import create_engine, text\n",
    "from tabulate import tabulate"
   ]
  },
  {
   "cell_type": "code",
   "execution_count": 14,
   "id": "0605aea2",
   "metadata": {},
   "outputs": [],
   "source": [
    "DB_USER = \"myuser\"\n",
    "DB_PASS = \"mypassword\"\n",
    "DB_HOST = \"localhost\"\n",
    "DB_PORT = \"5432\"\n",
    "DB_NAME = \"mydb\""
   ]
  },
  {
   "cell_type": "code",
   "execution_count": 15,
   "id": "0dc1d196",
   "metadata": {},
   "outputs": [],
   "source": [
    "DATABASE_URL = f\"postgresql://{DB_USER}:{DB_PASS}@{DB_HOST}:{DB_PORT}/{DB_NAME}\""
   ]
  },
  {
   "cell_type": "code",
   "execution_count": 16,
   "id": "cae2e91d",
   "metadata": {},
   "outputs": [],
   "source": [
    "engine = create_engine(DATABASE_URL)"
   ]
  },
  {
   "cell_type": "markdown",
   "id": "07891ed7",
   "metadata": {},
   "source": [
    "## Window Functions in SQL\n",
    "\n",
    "Window functions (also sometimes called analytic functions) are a special class of SQL functions that perform calculations across a *set of rows* that are related to the *current row*.\n",
    "\n",
    "Unlike aggregate functions (like `SUM()`, `AVG()`, `COUNT()`), window functions *do not group rows* into a single summary row. Instead, they return a value for *each row* in the result set, based on a window of related rows.\n",
    "\n",
    "**Essential Components:**\n",
    "\n",
    "*   **Window Functions:** The specific function that performs the calculation (e.g., `ROW_NUMBER()`, `RANK()`, `SUM()`, `AVG()`, `LAG()`, `LEAD()`, etc.).\n",
    "\n",
    "*   **`OVER()` Clause:**  This is *mandatory* for all window functions. It defines the \"window\" over which the function operates. The `OVER()` clause can contain the following:\n",
    "\n",
    "    *   **`PARTITION BY` Clause (Optional):** Divides the rows into partitions (groups) based on one or more columns. The window function is applied *independently* to each partition. This means the calculations are performed separately for each group.\n",
    "\n",
    "    *   **`ORDER BY` Clause (Often Required):** Specifies the order of rows *within* each partition.  Many window functions (especially those related to ranking, or accessing previous/next rows) require an `ORDER BY` clause to define the order in which the calculations are performed."
   ]
  },
  {
   "cell_type": "code",
   "execution_count": 17,
   "id": "443831ca",
   "metadata": {},
   "outputs": [],
   "source": [
    "def execute_sql(sql_statement):\n",
    "    try:\n",
    "        with engine.connect() as connection:\n",
    "            connection.execute(text(sql_statement))\n",
    "            connection.commit()\n",
    "            print(f\"SQL statement executed successfully:\\n{sql_statement}\")\n",
    "    except sqlalchemy.exc.ProgrammingError as e:\n",
    "        print(f\"Error executing SQL statement:\\n{sql_statement}\\nError: {e}\")\n",
    "    except Exception as e:\n",
    "        print(f\"An unexpected error occurred:\\n{sql_statement}\\nError: {e}\")"
   ]
  },
  {
   "cell_type": "code",
   "execution_count": 18,
   "id": "f077d333",
   "metadata": {},
   "outputs": [
    {
     "name": "stdout",
     "output_type": "stream",
     "text": [
      "SQL statement executed successfully:\n",
      "\n",
      "    CREATE TABLE Products (\n",
      "        product_id SERIAL PRIMARY KEY,\n",
      "        product_name VARCHAR(255),\n",
      "        price DECIMAL(10, 2),\n",
      "        category VARCHAR(255)\n",
      "    );\n",
      "\n"
     ]
    }
   ],
   "source": [
    "execute_sql(\"\"\"\n",
    "    CREATE TABLE Products (\n",
    "        product_id SERIAL PRIMARY KEY,\n",
    "        product_name VARCHAR(255),\n",
    "        price DECIMAL(10, 2),\n",
    "        category VARCHAR(255)\n",
    "    );\n",
    "\"\"\")"
   ]
  },
  {
   "cell_type": "code",
   "execution_count": 27,
   "id": "2d89c9d8",
   "metadata": {},
   "outputs": [],
   "source": [
    "try:\n",
    "    with engine.connect() as connection:\n",
    "        \n",
    "        connection.execute(text(\"TRUNCATE TABLE Products\"))\n",
    "        \n",
    "        connection.execute(text(\n",
    "                \"\"\"\n",
    "                   INSERT INTO Products (product_name, price, category) VALUES\n",
    "                    ('Laptop', 1200.00, 'Electronics'),\n",
    "                    ('Smartphone', 800.00, 'Electronics'),\n",
    "                    ('Tablet', 300.00, 'Electronics'),\n",
    "                    ('Book', 25.00, 'Books'),\n",
    "                    ('Notebook', 10.00, 'Books'),\n",
    "                    ('Pen', 5.00, 'Stationery'),\n",
    "                    ('Pencil', 3.00, 'Stationery'); \n",
    "                \"\"\"\n",
    "        ))\n",
    "        \n",
    "        connection.commit()\n",
    "\n",
    "except Exception as e:\n",
    "    print(\"Error querying table:\", e)"
   ]
  },
  {
   "cell_type": "markdown",
   "id": "dd3af428",
   "metadata": {},
   "source": [
    "## 1. ROW_NUMBER()\n",
    "\n",
    "**Definition**: Assigns a unique sequential integer to each row within a partition, based on the specified ORDER BY clause.\n",
    "\n",
    "**Use Case**: Assigning a rank to rows based on a specific criteria."
   ]
  },
  {
   "cell_type": "code",
   "execution_count": 28,
   "id": "67ccb1ce",
   "metadata": {},
   "outputs": [
    {
     "name": "stdout",
     "output_type": "stream",
     "text": [
      "+----------------+---------+-------------+-----------+\n",
      "| product_name   |   price | category    |   row_num |\n",
      "+================+=========+=============+===========+\n",
      "| Book           |      25 | Books       |         1 |\n",
      "+----------------+---------+-------------+-----------+\n",
      "| Notebook       |      10 | Books       |         2 |\n",
      "+----------------+---------+-------------+-----------+\n",
      "| Laptop         |    1200 | Electronics |         1 |\n",
      "+----------------+---------+-------------+-----------+\n",
      "| Smartphone     |     800 | Electronics |         2 |\n",
      "+----------------+---------+-------------+-----------+\n",
      "| Tablet         |     300 | Electronics |         3 |\n",
      "+----------------+---------+-------------+-----------+\n",
      "| Pen            |       5 | Stationery  |         1 |\n",
      "+----------------+---------+-------------+-----------+\n",
      "| Pencil         |       3 | Stationery  |         2 |\n",
      "+----------------+---------+-------------+-----------+\n"
     ]
    }
   ],
   "source": [
    "try:\n",
    "    with engine.connect() as connection:\n",
    "        \n",
    "        result = connection.execute(text(\n",
    "                \"\"\"\n",
    "                    SELECT\n",
    "                        product_name,\n",
    "                        price,\n",
    "                        category,\n",
    "                        ROW_NUMBER() OVER (PARTITION BY category ORDER BY price DESC) AS row_num\n",
    "                    FROM Products; \n",
    "                \"\"\"\n",
    "        ))\n",
    "\n",
    "        rows = result.fetchall()\n",
    "\n",
    "        column_names = result.keys()\n",
    "\n",
    "        table = tabulate(rows, headers=column_names, tablefmt=\"grid\")\n",
    "\n",
    "        print(table)\n",
    "\n",
    "except Exception as e:\n",
    "    print(\"Error querying table:\", e)"
   ]
  },
  {
   "cell_type": "markdown",
   "id": "d262f66c",
   "metadata": {},
   "source": [
    "## 2. Ranking Functions: RANK() and DENSE_RANK()\n",
    "\n",
    "**Definition:** Assign ranks to rows within a partition based on the specified `ORDER BY` clause.\n",
    "\n",
    "**`RANK()`:**\n",
    "\n",
    "*   Assigns the same rank to rows with equal values in the `ORDER BY` columns.\n",
    "*   This results in gaps in the ranking sequence. For example, if two rows are tied for rank 2, the next rank assigned will be 4.\n",
    "\n",
    "**`DENSE_RANK()`:**\n",
    "\n",
    "*   Assigns consecutive ranks without gaps, even for rows with equal values in the `ORDER BY` columns.\n",
    "*   If two rows are tied for rank 2, the next rank assigned will be 3.\n",
    "\n",
    "**Key Difference Summarized:**\n",
    "\n",
    "| Feature        | `RANK()`                      | `DENSE_RANK()`                |\n",
    "| -------------- | ----------------------------- | ----------------------------- |\n",
    "| Tie Handling | Assigns same rank, skips ranks | Assigns same rank, no skips |\n",
    "| Resulting Rank | 1, 2, 2, 4, 5               | 1, 2, 2, 3, 4               |\n",
    "\n",
    "**Use Case:**\n",
    "\n",
    "*   Determining the top N items in a category (e.g., top 10 customers by sales, best-selling products).\n",
    "\n",
    "**Example:**\n",
    "\n",
    "Let's say you have a table `products` with columns `product_name` and `price`.\n",
    "\n",
    "```sql\n",
    "SELECT\n",
    "    product_name,\n",
    "    price,\n",
    "    RANK() OVER (ORDER BY price DESC) AS product_rank,\n",
    "    DENSE_RANK() OVER (ORDER BY price DESC) AS dense_rank\n",
    "FROM\n",
    "    products;"
   ]
  },
  {
   "cell_type": "code",
   "execution_count": 29,
   "id": "a9115a2f",
   "metadata": {},
   "outputs": [
    {
     "name": "stdout",
     "output_type": "stream",
     "text": [
      "+----------------+---------+-------------+------------+------------------+\n",
      "| product_name   |   price | category    |   rank_num |   dense_rank_num |\n",
      "+================+=========+=============+============+==================+\n",
      "| Book           |      25 | Books       |          1 |                1 |\n",
      "+----------------+---------+-------------+------------+------------------+\n",
      "| Notebook       |      10 | Books       |          2 |                2 |\n",
      "+----------------+---------+-------------+------------+------------------+\n",
      "| Laptop         |    1200 | Electronics |          1 |                1 |\n",
      "+----------------+---------+-------------+------------+------------------+\n",
      "| Smartphone     |     800 | Electronics |          2 |                2 |\n",
      "+----------------+---------+-------------+------------+------------------+\n",
      "| Tablet         |     300 | Electronics |          3 |                3 |\n",
      "+----------------+---------+-------------+------------+------------------+\n",
      "| Pen            |       5 | Stationery  |          1 |                1 |\n",
      "+----------------+---------+-------------+------------+------------------+\n",
      "| Pencil         |       3 | Stationery  |          2 |                2 |\n",
      "+----------------+---------+-------------+------------+------------------+\n"
     ]
    }
   ],
   "source": [
    "try:\n",
    "    with engine.connect() as connection:\n",
    "        \n",
    "        result = connection.execute(text(\n",
    "                \"\"\"\n",
    "                SELECT\n",
    "                    product_name,\n",
    "                    price,\n",
    "                    category,\n",
    "                    RANK() OVER (PARTITION BY category ORDER BY price DESC) AS rank_num,\n",
    "                    DENSE_RANK() OVER (PARTITION BY category ORDER BY price DESC) AS dense_rank_num\n",
    "                FROM Products;\n",
    "                \"\"\"\n",
    "        ))\n",
    "\n",
    "        rows = result.fetchall()\n",
    "\n",
    "        column_names = result.keys()\n",
    "\n",
    "        table = tabulate(rows, headers=column_names, tablefmt=\"grid\")\n",
    "\n",
    "        print(table)\n",
    "\n",
    "except Exception as e:\n",
    "    print(\"Error querying table:\", e)"
   ]
  },
  {
   "cell_type": "markdown",
   "id": "b8c3064f",
   "metadata": {},
   "source": [
    "## 3. LAG() and LEAD() Functions\n",
    "\n",
    "**Definition:** Access data from previous (`LAG()`) or subsequent (`LEAD()`) rows within a partition, based on the specified `ORDER BY` clause.\n",
    "\n",
    "**Use Case:**\n",
    "\n",
    "*   Calculating differences or changes over time (e.g., month-over-month sales growth, year-over-year changes).\n",
    "*   Comparing a current value to a previous or future value.\n",
    "*   Analyzing time series data."
   ]
  },
  {
   "cell_type": "code",
   "execution_count": null,
   "id": "4f604723",
   "metadata": {},
   "outputs": [
    {
     "name": "stdout",
     "output_type": "stream",
     "text": [
      "SQL statement executed successfully:\n",
      "\n",
      "    CREATE TABLE IF NOT EXISTS Daily_Sales (\n",
      "        order_date DATE PRIMARY KEY,\n",
      "        revenue DECIMAL(10, 2)\n",
      "    );\n",
      "\n",
      "SQL statement executed successfully:\n",
      "\n",
      "    INSERT INTO Daily_Sales (order_date, revenue) VALUES\n",
      "    ('2023-11-20', 100.00),\n",
      "    ('2023-11-21', 150.00),\n",
      "    ('2023-11-22', 120.00),\n",
      "    ('2023-11-23', 200.00);\n",
      "\n"
     ]
    }
   ],
   "source": [
    "execute_sql(\"\"\"\n",
    "    CREATE TABLE IF NOT EXISTS Daily_Sales (\n",
    "        order_date DATE PRIMARY KEY,\n",
    "        revenue DECIMAL(10, 2)\n",
    "    );\n",
    "\"\"\")\n",
    "\n",
    "execute_sql(\"\"\"\n",
    "    INSERT INTO Daily_Sales (order_date, revenue) VALUES\n",
    "    ('2023-11-20', 100.00),\n",
    "    ('2023-11-21', 150.00),\n",
    "    ('2023-11-22', 120.00),\n",
    "    ('2023-11-23', 200.00);\n",
    "\"\"\")"
   ]
  },
  {
   "cell_type": "code",
   "execution_count": 31,
   "id": "afe4a6db",
   "metadata": {},
   "outputs": [
    {
     "name": "stdout",
     "output_type": "stream",
     "text": [
      "+--------------+-----------+------------------------+----------------------+\n",
      "| order_date   |   revenue |   previous_day_revenue |   revenue_difference |\n",
      "+==============+===========+========================+======================+\n",
      "| 2023-11-20   |       100 |                      0 |                  100 |\n",
      "+--------------+-----------+------------------------+----------------------+\n",
      "| 2023-11-21   |       150 |                    100 |                   50 |\n",
      "+--------------+-----------+------------------------+----------------------+\n",
      "| 2023-11-22   |       120 |                    150 |                  -30 |\n",
      "+--------------+-----------+------------------------+----------------------+\n",
      "| 2023-11-23   |       200 |                    120 |                   80 |\n",
      "+--------------+-----------+------------------------+----------------------+\n"
     ]
    }
   ],
   "source": [
    "try:\n",
    "    with engine.connect() as connection:\n",
    "        \n",
    "        result = connection.execute(text(\n",
    "                \"\"\"\n",
    "                SELECT\n",
    "                    order_date,\n",
    "                    revenue,\n",
    "                    LAG(revenue, 1, 0) OVER (ORDER BY order_date) AS previous_day_revenue,\n",
    "                    revenue - LAG(revenue, 1, 0) OVER (ORDER BY order_date) AS revenue_difference\n",
    "                FROM Daily_Sales;\n",
    "                \"\"\"\n",
    "        ))\n",
    "\n",
    "        rows = result.fetchall()\n",
    "\n",
    "        column_names = result.keys()\n",
    "\n",
    "        table = tabulate(rows, headers=column_names, tablefmt=\"grid\")\n",
    "\n",
    "        print(table)\n",
    "\n",
    "except Exception as e:\n",
    "    print(\"Error querying table:\", e)"
   ]
  },
  {
   "cell_type": "markdown",
   "id": "2188bbc8",
   "metadata": {},
   "source": [
    "## 4. NTILE(n) Function\n",
    "\n",
    "**Definition:** Divides the rows in a partition into `n` groups (tiles) and assigns a tile number to each row.\n",
    "\n",
    "**Use Case:**\n",
    "\n",
    "*   Dividing customers into quartiles (NTILE(4)) based on spending.\n",
    "*   Segmenting data into percentiles.\n",
    "*   Creating equal-sized groups for analysis."
   ]
  },
  {
   "cell_type": "code",
   "execution_count": 32,
   "id": "ac48b85d",
   "metadata": {},
   "outputs": [
    {
     "name": "stdout",
     "output_type": "stream",
     "text": [
      "SQL statement executed successfully:\n",
      "\n",
      "    CREATE TABLE IF NOT EXISTS Customer_Spending (\n",
      "        customer_id SERIAL PRIMARY KEY,\n",
      "        total_spent DECIMAL(10, 2)\n",
      "    );\n",
      "\n"
     ]
    }
   ],
   "source": [
    "execute_sql(\"\"\"\n",
    "    CREATE TABLE IF NOT EXISTS Customer_Spending (\n",
    "        customer_id SERIAL PRIMARY KEY,\n",
    "        total_spent DECIMAL(10, 2)\n",
    "    );\n",
    "\"\"\")"
   ]
  },
  {
   "cell_type": "code",
   "execution_count": 33,
   "id": "f0cb5381",
   "metadata": {},
   "outputs": [
    {
     "name": "stdout",
     "output_type": "stream",
     "text": [
      "SQL statement executed successfully:\n",
      "\n",
      "    INSERT INTO Customer_Spending (total_spent) VALUES\n",
      "    (100.00),\n",
      "    (250.00),\n",
      "    (50.00),\n",
      "    (500.00),\n",
      "    (120.00);\n",
      "\n"
     ]
    }
   ],
   "source": [
    "execute_sql(\"\"\"\n",
    "    INSERT INTO Customer_Spending (total_spent) VALUES\n",
    "    (100.00),\n",
    "    (250.00),\n",
    "    (50.00),\n",
    "    (500.00),\n",
    "    (120.00);\n",
    "\"\"\")"
   ]
  },
  {
   "cell_type": "code",
   "execution_count": 35,
   "id": "70e417fd",
   "metadata": {},
   "outputs": [
    {
     "name": "stdout",
     "output_type": "stream",
     "text": [
      "+---------------+---------------+------------+\n",
      "|   customer_id |   total_spent |   quartile |\n",
      "+===============+===============+============+\n",
      "|             4 |           500 |          1 |\n",
      "+---------------+---------------+------------+\n",
      "|             2 |           250 |          1 |\n",
      "+---------------+---------------+------------+\n",
      "|             5 |           120 |          2 |\n",
      "+---------------+---------------+------------+\n",
      "|             1 |           100 |          3 |\n",
      "+---------------+---------------+------------+\n",
      "|             3 |            50 |          4 |\n",
      "+---------------+---------------+------------+\n"
     ]
    }
   ],
   "source": [
    "try:\n",
    "    with engine.connect() as connection:\n",
    "        \n",
    "        result = connection.execute(text(\n",
    "                \"\"\"\n",
    "                SELECT\n",
    "                    customer_id,\n",
    "                    total_spent,\n",
    "                    NTILE(4) OVER (ORDER BY total_spent DESC) AS quartile\n",
    "                FROM Customer_Spending;\n",
    "                \"\"\"\n",
    "        ))\n",
    "\n",
    "        rows = result.fetchall()\n",
    "\n",
    "        column_names = result.keys()\n",
    "\n",
    "        table = tabulate(rows, headers=column_names, tablefmt=\"grid\")\n",
    "\n",
    "        print(table)\n",
    "\n",
    "except Exception as e:\n",
    "    print(\"Error querying table:\", e)"
   ]
  },
  {
   "cell_type": "markdown",
   "id": "c218a117",
   "metadata": {},
   "source": [
    "## 5. Aggregate Functions as Window Functions\n",
    "\n",
    "**Definition:** Use aggregate functions (like `SUM()`, `AVG()`, `MIN()`, `MAX()`, `COUNT()`) as window functions to calculate running totals, moving averages, or other aggregate values within a defined window.\n",
    "\n",
    "**Use Case:**\n",
    "\n",
    "*   Trend analysis (e.g., calculating a 7-day moving average of website traffic).\n",
    "*   Calculating cumulative sums (e.g., tracking total sales over time).\n",
    "*   Identifying rolling minimum or maximum values."
   ]
  },
  {
   "cell_type": "code",
   "execution_count": 36,
   "id": "f348a9e1",
   "metadata": {},
   "outputs": [
    {
     "name": "stdout",
     "output_type": "stream",
     "text": [
      "+--------------+-----------+----------------------+\n",
      "| order_date   |   revenue |   cumulative_revenue |\n",
      "+==============+===========+======================+\n",
      "| 2023-11-20   |       100 |                  100 |\n",
      "+--------------+-----------+----------------------+\n",
      "| 2023-11-21   |       150 |                  250 |\n",
      "+--------------+-----------+----------------------+\n",
      "| 2023-11-22   |       120 |                  370 |\n",
      "+--------------+-----------+----------------------+\n",
      "| 2023-11-23   |       200 |                  570 |\n",
      "+--------------+-----------+----------------------+\n"
     ]
    }
   ],
   "source": [
    "try:\n",
    "    with engine.connect() as connection:\n",
    "        \n",
    "        result = connection.execute(text(\n",
    "                \"\"\"\n",
    "                SELECT\n",
    "                    order_date,\n",
    "                    revenue,\n",
    "                    SUM(revenue) OVER (ORDER BY order_date ROWS BETWEEN UNBOUNDED PRECEDING AND CURRENT ROW) AS cumulative_revenue\n",
    "                FROM Daily_Sales;\n",
    "                \"\"\"\n",
    "        ))\n",
    "\n",
    "        rows = result.fetchall()\n",
    "\n",
    "        column_names = result.keys()\n",
    "\n",
    "        table = tabulate(rows, headers=column_names, tablefmt=\"grid\")\n",
    "\n",
    "        print(table)\n",
    "\n",
    "except Exception as e:\n",
    "    print(\"Error querying table:\", e)"
   ]
  }
 ],
 "metadata": {
  "kernelspec": {
   "display_name": "Python 3",
   "language": "python",
   "name": "python3"
  },
  "language_info": {
   "codemirror_mode": {
    "name": "ipython",
    "version": 3
   },
   "file_extension": ".py",
   "mimetype": "text/x-python",
   "name": "python",
   "nbconvert_exporter": "python",
   "pygments_lexer": "ipython3",
   "version": "3.12.3"
  }
 },
 "nbformat": 4,
 "nbformat_minor": 5
}
