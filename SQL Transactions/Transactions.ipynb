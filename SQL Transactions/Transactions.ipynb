{
 "cells": [
  {
   "cell_type": "markdown",
   "id": "c7c05bcb",
   "metadata": {},
   "source": [
    "# Transactions in SQL\n",
    "\n",
    "A transaction is a sequence of one or more SQL operations treated as a single unit of work.  Think of it as an \"all-or-nothing\" operation.\n",
    "\n",
    "## ACID Properties\n",
    "\n",
    "Transactions should adhere to the ACID properties to ensure data integrity:\n",
    "\n",
    "*   **Atomicity:**  All operations within the transaction are treated as a single, indivisible unit.  Either *all* operations succeed, or *none* of them do.  If any operation fails, the entire transaction is rolled back, leaving the database in its original state.\n",
    "\n",
    "*   **Consistency:** The transaction maintains the integrity of the database.  It ensures that the data remains valid and consistent before and after the transaction is executed.  This typically involves enforcing constraints, rules, and data types.\n",
    "\n",
    "*   **Isolation:** Concurrent transactions should not interfere with each other. Each transaction should appear to execute as if it were the only transaction running on the database at that time. This prevents data corruption and inconsistencies due to overlapping updates.  Different isolation levels exist to trade off isolation with performance.\n",
    "\n",
    "*   **Durability:** Once a transaction is committed (successfully completed), the changes made by the transaction are permanent and will survive even system failures (e.g., power outages, crashes).  This is typically achieved by writing the changes to a persistent storage medium (like a hard drive) and using transaction logs.\n",
    "\n",
    "## Transaction Control Statements\n",
    "\n",
    "SQL provides the following commands to manage transactions:\n",
    "\n",
    "*   **`BEGIN TRANSACTION` (or `START TRANSACTION`):**  This statement marks the beginning of a new transaction. All subsequent SQL statements will be considered part of this transaction until a `COMMIT` or `ROLLBACK` is issued.\n",
    "\n",
    "*   **`COMMIT`:**  This statement saves all the changes made during the transaction to the database.  The transaction is considered successful, and the changes are made permanent.\n",
    "\n",
    "*   **`ROLLBACK`:**  This statement undoes all the changes made during the transaction. It reverts the database to the state it was in before the transaction began. This is used to handle errors or unexpected conditions that prevent the transaction from completing successfully."
   ]
  },
  {
   "cell_type": "code",
   "execution_count": null,
   "id": "fc825cbb",
   "metadata": {},
   "outputs": [],
   "source": [
    "from sqlalchemy import create_engine, text , exc\n",
    "from tabulate import tabulate"
   ]
  },
  {
   "cell_type": "code",
   "execution_count": 2,
   "id": "a49475a1",
   "metadata": {},
   "outputs": [],
   "source": [
    "DB_USER = \"myuser\"\n",
    "DB_PASS = \"mypassword\"\n",
    "DB_HOST = \"localhost\"\n",
    "DB_PORT = \"5432\"\n",
    "DB_NAME = \"mydb\""
   ]
  },
  {
   "cell_type": "code",
   "execution_count": 3,
   "id": "aea4c8e3",
   "metadata": {},
   "outputs": [],
   "source": [
    "DATABASE_URL = f\"postgresql://{DB_USER}:{DB_PASS}@{DB_HOST}:{DB_PORT}/{DB_NAME}\""
   ]
  },
  {
   "cell_type": "code",
   "execution_count": 4,
   "id": "684b68cc",
   "metadata": {},
   "outputs": [],
   "source": [
    "engine = create_engine(DATABASE_URL)"
   ]
  },
  {
   "cell_type": "code",
   "execution_count": 5,
   "id": "59d819fa",
   "metadata": {},
   "outputs": [],
   "source": [
    "def execute_sql(sql_statement):\n",
    "    try:\n",
    "        with engine.connect() as connection:\n",
    "            connection.execute(text(sql_statement))\n",
    "            connection.commit()\n",
    "            print(f\"SQL statement executed successfully:\\n{sql_statement}\")\n",
    "    except Exception as e:\n",
    "        print(f\"Error executing SQL statement:\\n{sql_statement}\\nError: {e}\")"
   ]
  },
  {
   "cell_type": "code",
   "execution_count": null,
   "id": "f53b7ac9",
   "metadata": {},
   "outputs": [],
   "source": [
    "execute_sql(\"\"\"\n",
    "    CREATE TABLE Customers (\n",
    "        CustomerID SERIAL PRIMARY KEY,\n",
    "        FirstName VARCHAR(255),\n",
    "        LastName VARCHAR(255)\n",
    "    );\n",
    "\"\"\")"
   ]
  },
  {
   "cell_type": "code",
   "execution_count": null,
   "id": "125dc0e3",
   "metadata": {},
   "outputs": [],
   "source": [
    "execute_sql(\"\"\"\n",
    "    CREATE TABLE Orders (\n",
    "        OrderID SERIAL PRIMARY KEY,\n",
    "        CustomerID INT REFERENCES Customers(CustomerID),\n",
    "        OrderDate DATE\n",
    "    );\n",
    "\"\"\")"
   ]
  },
  {
   "cell_type": "markdown",
   "id": "d9cfb196",
   "metadata": {},
   "source": [
    "# Atomicity\n",
    "* All operations in the transaction are either fully completed or completely rolled back."
   ]
  },
  {
   "cell_type": "code",
   "execution_count": 12,
   "id": "19c31935",
   "metadata": {},
   "outputs": [],
   "source": [
    "def perform_transaction(customer_firstname, customer_lastname, order_date):\n",
    "    \"\"\"\n",
    "    Demonstrates a transaction that inserts a new customer and an associated order.\n",
    "    If any error occurs, the transaction is rolled back.\n",
    "    \"\"\"\n",
    "    try:\n",
    "        with engine.connect() as connection:\n",
    "            \n",
    "            trans = connection.begin()\n",
    "\n",
    "            # 1. Insert the new customer\n",
    "            result = connection.execute(\n",
    "                text(\"\"\"\n",
    "                    INSERT INTO Customers (FirstName, LastName)\n",
    "                    VALUES (:firstname, :lastname)\n",
    "                    RETURNING CustomerID  -- Returns the newly generated ID\n",
    "                \"\"\"),\n",
    "                {\"firstname\": customer_firstname, \"lastname\": customer_lastname}\n",
    "            )\n",
    "            customer_id = result.scalar()\n",
    "\n",
    "            # 2. Insert the order for the new customer\n",
    "            connection.execute(\n",
    "                text(\"\"\"\n",
    "                    INSERT INTO Orders (CustomerID, OrderDate)\n",
    "                    VALUES (:customer_id, :order_date)\n",
    "                \"\"\"),\n",
    "                {\"customer_id\": customer_id, \"order_date\": order_date}\n",
    "            )\n",
    "\n",
    "            \n",
    "            trans.commit()\n",
    "            print(\"Transaction committed successfully: Customer and Order inserted.\")\n",
    "\n",
    "    except Exception as e:\n",
    "    \n",
    "        if 'trans' in locals() and trans:\n",
    "            trans.rollback()\n",
    "        print(f\"Transaction rolled back due to error: {e}\")"
   ]
  },
  {
   "cell_type": "code",
   "execution_count": 11,
   "id": "0040fe09",
   "metadata": {},
   "outputs": [
    {
     "name": "stdout",
     "output_type": "stream",
     "text": [
      "Transaction committed successfully: Customer and Order inserted.\n"
     ]
    }
   ],
   "source": [
    "perform_transaction(\"Invalid\", \"Customer\", \"2023-11-23\")"
   ]
  },
  {
   "cell_type": "markdown",
   "id": "09a99241",
   "metadata": {},
   "source": [
    "### Example to demonstrate rollback"
   ]
  },
  {
   "cell_type": "code",
   "execution_count": 10,
   "id": "193fea74",
   "metadata": {},
   "outputs": [
    {
     "name": "stdout",
     "output_type": "stream",
     "text": [
      "Transaction rolled back due to error: (psycopg2.errors.InvalidDatetimeFormat) invalid input syntax for type date: \"2023-11\"\n",
      "LINE 3:                     VALUES (8, '2023-11')\n",
      "                                       ^\n",
      "\n",
      "[SQL: \n",
      "                    INSERT INTO Orders (CustomerID, OrderDate)\n",
      "                    VALUES (%(customer_id)s, %(order_date)s)\n",
      "                ]\n",
      "[parameters: {'customer_id': 8, 'order_date': '2023-11'}]\n",
      "(Background on this error at: https://sqlalche.me/e/20/9h9h)\n"
     ]
    },
    {
     "name": "stderr",
     "output_type": "stream",
     "text": [
      "C:\\Users\\tiled\\AppData\\Local\\Temp\\ipykernel_98096\\2678385452.py:38: SAWarning: transaction already deassociated from connection\n",
      "  trans.rollback()\n"
     ]
    }
   ],
   "source": [
    "perform_transaction(\"Invalid\", \"Customer\", \"2023-11\")"
   ]
  },
  {
   "cell_type": "markdown",
   "id": "c09abcc2",
   "metadata": {},
   "source": [
    "# Isolation\n",
    "* Concurrent transactions should not interfere with each other."
   ]
  },
  {
   "cell_type": "code",
   "execution_count": 13,
   "id": "aaaac13a",
   "metadata": {},
   "outputs": [],
   "source": [
    "import threading\n",
    "import time"
   ]
  },
  {
   "cell_type": "code",
   "execution_count": null,
   "id": "d6766049",
   "metadata": {},
   "outputs": [],
   "source": [
    "def transaction_a(delay=0):\n",
    "    \"\"\"Simulates transaction A\"\"\"\n",
    "    conn = engine.connect()\n",
    "    trans = None\n",
    "\n",
    "    try:\n",
    "        trans = conn.begin()\n",
    "        \n",
    "        print(\"Transaction A: Starting transaction\")\n",
    "\n",
    "        result = conn.execute(text(\"SELECT FirstName FROM Customers WHERE CustomerID = 1\"))\n",
    "        \n",
    "        initial_name = result.scalar()\n",
    "        \n",
    "        print(f\"Transaction A: Initial FirstName = {initial_name}\")\n",
    "\n",
    "        print(\"Transaction A: Updating FirstName to 'Robert'\")\n",
    "        \n",
    "        conn.execute(\n",
    "            text(\"UPDATE Customers SET FirstName = 'Robert' WHERE CustomerID = 1\")\n",
    "        )\n",
    "\n",
    "        time.sleep(delay)\n",
    "\n",
    "        trans.commit()\n",
    "        print(\"Transaction A: Transaction committed\")\n",
    "\n",
    "    except Exception as e:\n",
    "        if trans is not None:\n",
    "            trans.rollback()\n",
    "        print(f\"Transaction A: Transaction rolled back: {e}\")\n",
    "    finally:\n",
    "        conn.close()\n"
   ]
  },
  {
   "cell_type": "code",
   "execution_count": 17,
   "id": "30ded6c2",
   "metadata": {},
   "outputs": [],
   "source": [
    "def transaction_b(delay=0):\n",
    "    \"\"\"Simulates transaction B\"\"\"\n",
    "    conn = engine.connect()\n",
    "    trans = None\n",
    "    try:\n",
    "        trans = conn.begin()\n",
    "        print(\"Transaction B: Starting transaction\")\n",
    "\n",
    "        result = conn.execute(text(\"SELECT FirstName FROM Customers WHERE CustomerID = 1\"))\n",
    "        \n",
    "        initial_name = result.scalar()\n",
    "        \n",
    "        print(f\"Transaction B: Initial FirstName = {initial_name}\")\n",
    "\n",
    "        print(\"Transaction B: Updating FirstName to 'Alice'\")\n",
    "        \n",
    "        conn.execute(\n",
    "            text(\"UPDATE Customers SET FirstName = 'Alice' WHERE CustomerID = 1\")\n",
    "        )\n",
    "\n",
    "        time.sleep(delay)\n",
    "\n",
    "        trans.commit()\n",
    "        \n",
    "        print(\"Transaction B: Transaction committed\")\n",
    "\n",
    "    except Exception as e:\n",
    "        if trans is not None:\n",
    "            trans.rollback()\n",
    "        print(f\"Transaction B: Transaction rolled back: {e}\")\n",
    "    finally:\n",
    "        conn.close()\n"
   ]
  },
  {
   "cell_type": "code",
   "execution_count": 18,
   "id": "b3331e7b",
   "metadata": {},
   "outputs": [],
   "source": [
    "def run_transactions(delay=0):\n",
    "    \"\"\"Runs two concurrent transactions\"\"\"\n",
    "    \n",
    "    thread_a = threading.Thread(target=transaction_a, args=(delay,))\n",
    "    thread_b = threading.Thread(target=transaction_b, args=(delay,))\n",
    "\n",
    "    thread_a.start()\n",
    "    thread_b.start()\n",
    "\n",
    "    thread_a.join()\n",
    "    thread_b.join()\n",
    "\n",
    "\n",
    "    conn = engine.connect()\n",
    "    \n",
    "    try:\n",
    "        result = conn.execute(text(\"SELECT FirstName FROM Customers WHERE CustomerID = 1\"))\n",
    "        final_name = result.scalar()\n",
    "        print(f\"Final FirstName in database: {final_name}\")\n",
    "    finally:\n",
    "        conn.close()"
   ]
  },
  {
   "cell_type": "code",
   "execution_count": 19,
   "id": "e6c26349",
   "metadata": {},
   "outputs": [
    {
     "name": "stdout",
     "output_type": "stream",
     "text": [
      "Running concurrent transactions with minimal delay:\n",
      "Transaction A: Starting transaction\n",
      "Transaction A: Initial FirstName = John\n",
      "Transaction A: Updating FirstName to 'Robert'\n",
      "Transaction A: Transaction committed\n",
      "Transaction B: Starting transaction\n",
      "Transaction B: Initial FirstName = Robert\n",
      "Transaction B: Updating FirstName to 'Alice'\n",
      "Transaction B: Transaction committed\n",
      "Final FirstName in database: Alice\n"
     ]
    }
   ],
   "source": [
    "# Run the transactions with no delay (to see if there is any concurrency issue.)\n",
    "print(\"Running concurrent transactions with minimal delay:\")\n",
    "run_transactions()\n"
   ]
  },
  {
   "cell_type": "code",
   "execution_count": 20,
   "id": "cd9ad8d5",
   "metadata": {},
   "outputs": [
    {
     "name": "stdout",
     "output_type": "stream",
     "text": [
      "\n",
      "Running concurrent transactions with 1 second delay:\n",
      "Transaction A: Starting transaction\n",
      "Transaction B: Starting transaction\n",
      "Transaction B: Initial FirstName = Alice\n",
      "Transaction B: Updating FirstName to 'Alice'\n",
      "Transaction A: Initial FirstName = Alice\n",
      "Transaction A: Updating FirstName to 'Robert'\n",
      "Transaction B: Transaction committed\n",
      "Transaction A: Transaction committed\n",
      "Final FirstName in database: Robert\n"
     ]
    }
   ],
   "source": [
    "# Running concurrent transactions with high delay (to see the difference if high delay.)\n",
    "print(\"\\nRunning concurrent transactions with 1 second delay:\")\n",
    "run_transactions(delay=1)"
   ]
  },
  {
   "cell_type": "markdown",
   "id": "19e1d768",
   "metadata": {},
   "source": [
    "# Consistency\n",
    "\n",
    "* The transaction maintains the integrity of the database\n",
    "* In this example, we intentionally try to insert an order with a non-existent CustomerID. The test expects an IntegrityError (specifically, a ForeignKeyError within it) to be raised and asserts that this happens."
   ]
  },
  {
   "cell_type": "code",
   "execution_count": 21,
   "id": "8a551afa",
   "metadata": {},
   "outputs": [],
   "source": [
    "def test_foreign_key_violation():\n",
    "    \"\"\"Tests that inserting an order with an invalid CustomerID raises an exception.\"\"\"\n",
    "    try:\n",
    "        with engine.connect() as connection:\n",
    "            trans = connection.begin()\n",
    "            try:\n",
    "                connection.execute(\n",
    "                    text(\"\"\"\n",
    "                        INSERT INTO Orders (CustomerID, OrderDate)\n",
    "                        VALUES (:customer_id, :order_date)\n",
    "                    \"\"\"),\n",
    "                    {\"customer_id\": 999, \"order_date\": \"2023-11-23\"} \n",
    "                )\n",
    "                trans.commit()\n",
    "                \n",
    "                assert False, \"ForeignKeyError was not raised\"\n",
    "                \n",
    "            except exc.IntegrityError as e:\n",
    "                print(f\"Expected ForeignKeyError caught: {e}\")\n",
    "                trans.rollback()\n",
    "            except Exception as e:\n",
    "                print(e)\n",
    "                trans.rollback()\n",
    "\n",
    "    except Exception as e:\n",
    "        print(e) "
   ]
  },
  {
   "cell_type": "markdown",
   "id": "24cec028",
   "metadata": {},
   "source": [
    "# Durability\n",
    "\n",
    "* Once a transaction is committed, the changes are permanent."
   ]
  },
  {
   "cell_type": "code",
   "execution_count": 22,
   "id": "be3a027e",
   "metadata": {},
   "outputs": [],
   "source": [
    "def test_durability():\n",
    "    \"\"\"Simulates a crash after a transaction commit to verify durability.\"\"\"\n",
    "    try:\n",
    "        with engine.connect() as connection:\n",
    "            trans = connection.begin()\n",
    "           \n",
    "            connection.execute(\n",
    "                text(\"\"\"\n",
    "                    INSERT INTO Customers (FirstName, LastName)\n",
    "                    VALUES ('CrashTest', 'Dummy')\n",
    "                \"\"\")\n",
    "            )\n",
    "\n",
    "            \n",
    "            trans.commit()\n",
    "            print(\"Transaction committed successfully.\")\n",
    "            trans = None \n",
    "\n",
    "           \n",
    "\n",
    "            print(\"Simulating a system crash... (Manually shut down the database server now!)\")\n",
    "            input(\"Press Enter after you have simulated the crash...\")\n",
    "\n",
    "        with engine.connect() as connection:\n",
    "            result = connection.execute(\n",
    "                text(\"\"\"\n",
    "                    SELECT * FROM Customers WHERE FirstName = 'CrashTest'\n",
    "                \"\"\")\n",
    "            )\n",
    "            customer = result.fetchone()\n",
    "\n",
    "            if customer:\n",
    "                print(\"Durability test passed: Data survived the crash.\")\n",
    "            else:\n",
    "                print(\"Durability test failed: Data was lost during the crash.\")\n",
    "\n",
    "    except Exception as e:\n",
    "        if trans is not None:\n",
    "            trans.rollback()\n",
    "\n",
    "        print(f\"test_durability error{e}\")\n"
   ]
  },
  {
   "cell_type": "code",
   "execution_count": 23,
   "id": "4e6e4a54",
   "metadata": {},
   "outputs": [
    {
     "name": "stdout",
     "output_type": "stream",
     "text": [
      "Transaction committed successfully.\n",
      "Simulating a system crash... (Manually shut down the database server now!)\n",
      "Durability test passed: Data survived the crash.\n"
     ]
    }
   ],
   "source": [
    "test_durability()"
   ]
  }
 ],
 "metadata": {
  "kernelspec": {
   "display_name": "Python 3",
   "language": "python",
   "name": "python3"
  },
  "language_info": {
   "codemirror_mode": {
    "name": "ipython",
    "version": 3
   },
   "file_extension": ".py",
   "mimetype": "text/x-python",
   "name": "python",
   "nbconvert_exporter": "python",
   "pygments_lexer": "ipython3",
   "version": "3.12.3"
  }
 },
 "nbformat": 4,
 "nbformat_minor": 5
}
