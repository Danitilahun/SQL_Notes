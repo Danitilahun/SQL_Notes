{
 "cells": [
  {
   "cell_type": "code",
   "execution_count": 1,
   "id": "6506b351",
   "metadata": {},
   "outputs": [],
   "source": [
    "from sqlalchemy import create_engine, text\n",
    "from tabulate import tabulate"
   ]
  },
  {
   "cell_type": "code",
   "execution_count": 2,
   "id": "a251b62d",
   "metadata": {},
   "outputs": [],
   "source": [
    "DB_USER = \"myuser\"\n",
    "DB_PASS = \"mypassword\"\n",
    "DB_HOST = \"localhost\"\n",
    "DB_PORT = \"5432\"\n",
    "DB_NAME = \"mydb\""
   ]
  },
  {
   "cell_type": "code",
   "execution_count": 3,
   "id": "8695b39a",
   "metadata": {},
   "outputs": [],
   "source": [
    "DATABASE_URL = f\"postgresql://{DB_USER}:{DB_PASS}@{DB_HOST}:{DB_PORT}/{DB_NAME}\""
   ]
  },
  {
   "cell_type": "code",
   "execution_count": 4,
   "id": "6b8cc62c",
   "metadata": {},
   "outputs": [],
   "source": [
    "engine = create_engine(DATABASE_URL)"
   ]
  },
  {
   "cell_type": "code",
   "execution_count": 5,
   "id": "d9641e98",
   "metadata": {},
   "outputs": [
    {
     "name": "stdout",
     "output_type": "stream",
     "text": [
      "Tables 'Customers' and 'Orders' created successfully.\n"
     ]
    }
   ],
   "source": [
    "try:\n",
    "    with engine.connect() as connection:\n",
    "        \n",
    "        connection.execute(text(\"DROP TABLE IF EXISTS Customers CASCADE;\"))\n",
    "        \n",
    "        connection.execute(text(\"DROP TABLE IF EXISTS Orders CASCADE;\"))\n",
    "        \n",
    "        connection.execute(text(\"\"\"\n",
    "            CREATE TABLE Customers (\n",
    "                CustomerID SERIAL PRIMARY KEY,\n",
    "                FirstName VARCHAR(255),\n",
    "                LastName VARCHAR(255),\n",
    "                Email VARCHAR(255) UNIQUE\n",
    "            );\n",
    "        \"\"\"))\n",
    "\n",
    "        connection.execute(text(\"\"\"\n",
    "            CREATE TABLE Orders (\n",
    "                OrderID SERIAL PRIMARY KEY,\n",
    "                CustomerID INT,\n",
    "                OrderDate DATE,\n",
    "                TotalAmount DECIMAL(10, 2),\n",
    "                FOREIGN KEY (CustomerID) REFERENCES Customers(CustomerID)\n",
    "            );\n",
    "        \"\"\"))\n",
    "\n",
    "        connection.commit()\n",
    "        \n",
    "        print(\"Tables 'Customers' and 'Orders' created successfully.\")\n",
    "        \n",
    "except Exception as e:\n",
    "    print(\"Error creating tables:\", e)"
   ]
  },
  {
   "cell_type": "code",
   "execution_count": 6,
   "id": "7c5f693a",
   "metadata": {},
   "outputs": [
    {
     "name": "stdout",
     "output_type": "stream",
     "text": [
      "Sample data inserted successfully.\n"
     ]
    }
   ],
   "source": [
    "try:\n",
    "    with engine.connect() as connection:\n",
    "        \n",
    "        connection.execute(\n",
    "            text(\"\"\"\n",
    "            INSERT INTO Customers (FirstName, LastName, Email) VALUES\n",
    "            ('John', 'Doe', 'john.doe@example.com'),\n",
    "            ('Jane', 'Smith', 'jane.smith@example.com'),\n",
    "            ('Peter', 'Jones', 'peter.jones@example.com');\n",
    "        \"\"\")\n",
    "        )\n",
    "\n",
    "        connection.execute(\n",
    "            text(\"\"\"\n",
    "            INSERT INTO Orders (CustomerID, OrderDate, TotalAmount) VALUES\n",
    "            (1, '2023-11-01', 100.00),\n",
    "            (1, '2023-11-15', 50.00),\n",
    "            (2, '2023-11-05', 75.00),\n",
    "            (3, '2023-11-10', 200.00),\n",
    "            (3, '2023-11-20', 120.00);\n",
    "        \"\"\")\n",
    "        )\n",
    "\n",
    "        connection.commit()\n",
    "        \n",
    "        print(\"Sample data inserted successfully.\")\n",
    "except Exception as e:\n",
    "    print(\"Error inserting data:\", e)"
   ]
  },
  {
   "cell_type": "markdown",
   "id": "9fc4ed54",
   "metadata": {},
   "source": [
    "## SELECT: Retrieves data from one or more tables. "
   ]
  },
  {
   "cell_type": "markdown",
   "id": "3767bf8e",
   "metadata": {},
   "source": [
    "## 1. Basic SELECT Syntax"
   ]
  },
  {
   "cell_type": "code",
   "execution_count": 7,
   "id": "387ee949",
   "metadata": {},
   "outputs": [
    {
     "name": "stdout",
     "output_type": "stream",
     "text": [
      "+--------------+-------------+------------+-------------------------+\n",
      "|   customerid | firstname   | lastname   | email                   |\n",
      "+==============+=============+============+=========================+\n",
      "|            1 | John        | Doe        | john.doe@example.com    |\n",
      "+--------------+-------------+------------+-------------------------+\n",
      "|            2 | Jane        | Smith      | jane.smith@example.com  |\n",
      "+--------------+-------------+------------+-------------------------+\n",
      "|            3 | Peter       | Jones      | peter.jones@example.com |\n",
      "+--------------+-------------+------------+-------------------------+\n"
     ]
    }
   ],
   "source": [
    "try:\n",
    "    with engine.connect() as connection:\n",
    "        \n",
    "        result = connection.execute(text(\"SELECT * FROM Customers\"))\n",
    "        \n",
    "        rows = result.fetchall()\n",
    "\n",
    "        column_names = result.keys()\n",
    "\n",
    "        table = tabulate(rows, headers=column_names, tablefmt=\"grid\")\n",
    "\n",
    "        print(table)\n",
    "            \n",
    "except Exception as e:\n",
    "    print(\"Error executing query:\", e)"
   ]
  },
  {
   "cell_type": "markdown",
   "id": "d4ab8859",
   "metadata": {},
   "source": [
    "## 2. Selecting Specific Columns"
   ]
  },
  {
   "cell_type": "code",
   "execution_count": 8,
   "id": "9d48d773",
   "metadata": {},
   "outputs": [
    {
     "name": "stdout",
     "output_type": "stream",
     "text": [
      "+-------------+------------+\n",
      "| firstname   | lastname   |\n",
      "+=============+============+\n",
      "| John        | Doe        |\n",
      "+-------------+------------+\n",
      "| Jane        | Smith      |\n",
      "+-------------+------------+\n",
      "| Peter       | Jones      |\n",
      "+-------------+------------+\n"
     ]
    }
   ],
   "source": [
    "try:\n",
    "    with engine.connect() as connection:\n",
    "        \n",
    "        result = connection.execute(text(\"SELECT FirstName, LastName FROM Customers\"))\n",
    "        \n",
    "        rows = result.fetchall()\n",
    "\n",
    "        column_names = result.keys()\n",
    "\n",
    "        table = tabulate(rows, headers=column_names, tablefmt=\"grid\")\n",
    "\n",
    "        print(table)\n",
    "except Exception as e:\n",
    "    print(\"Error executing query:\", e)"
   ]
  },
  {
   "cell_type": "markdown",
   "id": "7713a285",
   "metadata": {},
   "source": [
    "## 3. WHERE Clause (Filtering):"
   ]
  },
  {
   "cell_type": "code",
   "execution_count": 9,
   "id": "a66b1d61",
   "metadata": {},
   "outputs": [
    {
     "name": "stdout",
     "output_type": "stream",
     "text": [
      "(1, 'John', 'Doe', 'john.doe@example.com')\n"
     ]
    }
   ],
   "source": [
    "try:\n",
    "    with engine.connect() as connection:\n",
    "        result = connection.execute(text(\"SELECT * FROM Customers WHERE LastName = 'Doe'\"))\n",
    "        for row in result:\n",
    "            print(row)\n",
    "except Exception as e:\n",
    "    print(\"Error executing query:\", e)"
   ]
  },
  {
   "cell_type": "markdown",
   "id": "909bead8",
   "metadata": {},
   "source": [
    "## 4. ORDER BY Clause (Sorting)"
   ]
  },
  {
   "cell_type": "code",
   "execution_count": 10,
   "id": "47524706",
   "metadata": {},
   "outputs": [
    {
     "name": "stdout",
     "output_type": "stream",
     "text": [
      "+--------------+-------------+------------+-------------------------+\n",
      "|   customerid | firstname   | lastname   | email                   |\n",
      "+==============+=============+============+=========================+\n",
      "|            1 | John        | Doe        | john.doe@example.com    |\n",
      "+--------------+-------------+------------+-------------------------+\n",
      "|            3 | Peter       | Jones      | peter.jones@example.com |\n",
      "+--------------+-------------+------------+-------------------------+\n",
      "|            2 | Jane        | Smith      | jane.smith@example.com  |\n",
      "+--------------+-------------+------------+-------------------------+\n"
     ]
    }
   ],
   "source": [
    "try:\n",
    "    with engine.connect() as connection:\n",
    "        result = connection.execute(text(\"SELECT * FROM Customers ORDER BY LastName ASC\"))\n",
    "        \n",
    "        rows = result.fetchall()\n",
    "\n",
    "        column_names = result.keys()\n",
    "\n",
    "        table = tabulate(rows, headers=column_names, tablefmt=\"grid\")\n",
    "\n",
    "        print(table)\n",
    "except Exception as e:\n",
    "    print(\"Error executing query:\", e)"
   ]
  },
  {
   "cell_type": "markdown",
   "id": "f9e9a01b",
   "metadata": {},
   "source": [
    "## 5. LIMIT and OFFSET (Pagination)"
   ]
  },
  {
   "cell_type": "code",
   "execution_count": 11,
   "id": "2fd701ad",
   "metadata": {},
   "outputs": [
    {
     "name": "stdout",
     "output_type": "stream",
     "text": [
      "(2, 'Jane', 'Smith', 'jane.smith@example.com')\n",
      "(3, 'Peter', 'Jones', 'peter.jones@example.com')\n"
     ]
    }
   ],
   "source": [
    "try:\n",
    "    with engine.connect() as connection:\n",
    "        result = connection.execute(text(\"SELECT * FROM Customers LIMIT 2 OFFSET 1\"))\n",
    "        for row in result:\n",
    "            print(row)\n",
    "except Exception as e:\n",
    "    print(\"Error executing query:\", e)"
   ]
  },
  {
   "cell_type": "markdown",
   "id": "dcf84118",
   "metadata": {},
   "source": [
    "## 6. Aggregate Functions (COUNT, SUM, AVG, etc.)"
   ]
  },
  {
   "cell_type": "code",
   "execution_count": 12,
   "id": "2147f783",
   "metadata": {},
   "outputs": [
    {
     "name": "stdout",
     "output_type": "stream",
     "text": [
      "Total number of orders: 5\n",
      "Total amount of all orders: 545.00\n",
      "Average order amount: 109.0000000000000000\n"
     ]
    }
   ],
   "source": [
    "try:\n",
    "    with engine.connect() as connection:\n",
    "        result = connection.execute(text(\"SELECT COUNT(*) FROM Orders\"))\n",
    "        count = result.scalar()\n",
    "        print(f\"Total number of orders: {count}\")\n",
    "\n",
    "        result = connection.execute(text(\"SELECT SUM(TotalAmount) FROM Orders\"))\n",
    "        total_amount = result.scalar()\n",
    "        print(f\"Total amount of all orders: {total_amount}\")\n",
    "\n",
    "        result = connection.execute(text(\"SELECT AVG(TotalAmount) FROM Orders\"))\n",
    "        avg_amount = result.scalar()\n",
    "        print(f\"Average order amount: {avg_amount}\")\n",
    "\n",
    "except Exception as e:\n",
    "    print(\"Error executing query:\", e)"
   ]
  },
  {
   "cell_type": "markdown",
   "id": "6ac897be",
   "metadata": {},
   "source": [
    "## 7. GROUP BY Clause"
   ]
  },
  {
   "cell_type": "code",
   "execution_count": 13,
   "id": "8e2b87d6",
   "metadata": {},
   "outputs": [
    {
     "name": "stdout",
     "output_type": "stream",
     "text": [
      "+--------------+--------------+\n",
      "|   customerid |   ordercount |\n",
      "+==============+==============+\n",
      "|            3 |            2 |\n",
      "+--------------+--------------+\n",
      "|            2 |            1 |\n",
      "+--------------+--------------+\n",
      "|            1 |            2 |\n",
      "+--------------+--------------+\n"
     ]
    }
   ],
   "source": [
    "try:\n",
    "    with engine.connect() as connection:\n",
    "        result = connection.execute(text(\"\"\"\n",
    "            SELECT CustomerID, COUNT(*) AS OrderCount\n",
    "            FROM Orders\n",
    "            GROUP BY CustomerID\n",
    "        \"\"\"))\n",
    "\n",
    "        rows = result.fetchall()\n",
    "\n",
    "        column_names = result.keys()\n",
    "\n",
    "        table = tabulate(rows, headers=column_names, tablefmt=\"grid\")\n",
    "\n",
    "        print(table)\n",
    "except Exception as e:\n",
    "    print(\"Error executing query:\", e)"
   ]
  },
  {
   "cell_type": "markdown",
   "id": "97c051c2",
   "metadata": {},
   "source": [
    "## 8. Subquery"
   ]
  },
  {
   "cell_type": "code",
   "execution_count": 14,
   "id": "3252b987",
   "metadata": {},
   "outputs": [
    {
     "name": "stdout",
     "output_type": "stream",
     "text": [
      "(3, 'Peter', 'Jones', 'peter.jones@example.com')\n"
     ]
    }
   ],
   "source": [
    "try:\n",
    "    with engine.connect() as connection:\n",
    "        result = connection.execute(text(\"\"\"\n",
    "            SELECT *\n",
    "            FROM Customers\n",
    "            WHERE CustomerID IN (SELECT CustomerID FROM Orders WHERE TotalAmount > 100)\n",
    "        \"\"\"))\n",
    "\n",
    "        for row in result:\n",
    "            print(row)\n",
    "except Exception as e:\n",
    "    print(\"Error executing query:\", e)"
   ]
  },
  {
   "cell_type": "code",
   "execution_count": 15,
   "id": "2de6d545",
   "metadata": {},
   "outputs": [
    {
     "name": "stdout",
     "output_type": "stream",
     "text": [
      "+--------------+-------------+------------+-------------------------+\n",
      "|   customerid | firstname   | lastname   | email                   |\n",
      "+==============+=============+============+=========================+\n",
      "|            1 | John        | Doe        | john.doe@example.com    |\n",
      "+--------------+-------------+------------+-------------------------+\n",
      "|            2 | Jane        | Smith      | jane.smith@example.com  |\n",
      "+--------------+-------------+------------+-------------------------+\n",
      "|            3 | Peter       | Jones      | peter.jones@example.com |\n",
      "+--------------+-------------+------------+-------------------------+\n"
     ]
    }
   ],
   "source": [
    "try:\n",
    "    with engine.connect() as connection:\n",
    "        \n",
    "        result = connection.execute(text(\"SELECT * FROM Customers\"))\n",
    "        \n",
    "        rows = result.fetchall()\n",
    "\n",
    "        column_names = result.keys()\n",
    "\n",
    "        table = tabulate(rows, headers=column_names, tablefmt=\"grid\")\n",
    "\n",
    "        print(table)\n",
    "            \n",
    "except Exception as e:\n",
    "    print(\"Error executing query:\", e)"
   ]
  },
  {
   "cell_type": "code",
   "execution_count": 16,
   "id": "6e5803a0",
   "metadata": {},
   "outputs": [
    {
     "name": "stdout",
     "output_type": "stream",
     "text": [
      "+-----------+--------------+-------------+---------------+\n",
      "|   orderid |   customerid | orderdate   |   totalamount |\n",
      "+===========+==============+=============+===============+\n",
      "|         1 |            1 | 2023-11-01  |           100 |\n",
      "+-----------+--------------+-------------+---------------+\n",
      "|         2 |            1 | 2023-11-15  |            50 |\n",
      "+-----------+--------------+-------------+---------------+\n",
      "|         3 |            2 | 2023-11-05  |            75 |\n",
      "+-----------+--------------+-------------+---------------+\n",
      "|         4 |            3 | 2023-11-10  |           200 |\n",
      "+-----------+--------------+-------------+---------------+\n",
      "|         5 |            3 | 2023-11-20  |           120 |\n",
      "+-----------+--------------+-------------+---------------+\n"
     ]
    }
   ],
   "source": [
    "try:\n",
    "    with engine.connect() as connection:\n",
    "        \n",
    "        result = connection.execute(text(\"SELECT * FROM Orders\"))\n",
    "        \n",
    "        rows = result.fetchall()\n",
    "\n",
    "        column_names = result.keys()\n",
    "\n",
    "        table = tabulate(rows, headers=column_names, tablefmt=\"grid\")\n",
    "\n",
    "        print(table)\n",
    "            \n",
    "except Exception as e:\n",
    "    print(\"Error executing query:\", e)"
   ]
  },
  {
   "cell_type": "markdown",
   "id": "b8becd5e",
   "metadata": {},
   "source": [
    "## INSERT (Adding a New Customer):"
   ]
  },
  {
   "cell_type": "code",
   "execution_count": 17,
   "id": "f84dd332",
   "metadata": {},
   "outputs": [
    {
     "name": "stdout",
     "output_type": "stream",
     "text": [
      "New customer inserted successfully.\n"
     ]
    }
   ],
   "source": [
    "try:\n",
    "    with engine.connect() as connection:\n",
    "        connection.execute(\n",
    "            text(\"\"\"\n",
    "            INSERT INTO Customers (FirstName, LastName, Email)\n",
    "            VALUES (:firstname, :lastname, :email)\n",
    "        \"\"\"),\n",
    "            {\"firstname\": \"Alice\", \"lastname\": \"Brown\", \"email\": \"alice.brown@example.com\"}\n",
    "        )\n",
    "\n",
    "        connection.commit()\n",
    "        print(\"New customer inserted successfully.\")\n",
    "except Exception as e:\n",
    "    print(\"Error inserting customer:\", e)"
   ]
  },
  {
   "cell_type": "markdown",
   "id": "ea2887a0",
   "metadata": {},
   "source": [
    "## UPDATE (Modifying Customer Information)"
   ]
  },
  {
   "cell_type": "code",
   "execution_count": 18,
   "id": "ca98321b",
   "metadata": {},
   "outputs": [
    {
     "name": "stdout",
     "output_type": "stream",
     "text": [
      "Customer email updated successfully.\n"
     ]
    }
   ],
   "source": [
    "try:\n",
    "    with engine.connect() as connection:\n",
    "        connection.execute(\n",
    "            text(\"\"\"\n",
    "            UPDATE Customers\n",
    "            SET Email = :new_email\n",
    "            WHERE FirstName = :firstname AND LastName = :lastname\n",
    "        \"\"\"),\n",
    "            {\"new_email\": \"alice.b@example.com\", \"firstname\": \"Alice\", \"lastname\": \"Brown\"}\n",
    "        )\n",
    "\n",
    "        connection.commit()\n",
    "        print(\"Customer email updated successfully.\")\n",
    "except Exception as e:\n",
    "    print(\"Error updating customer:\", e)"
   ]
  },
  {
   "cell_type": "markdown",
   "id": "fff027c2",
   "metadata": {},
   "source": [
    "## DELETE (Removing a Customer)"
   ]
  },
  {
   "cell_type": "code",
   "execution_count": 20,
   "id": "44f25602",
   "metadata": {},
   "outputs": [
    {
     "name": "stdout",
     "output_type": "stream",
     "text": [
      "Customer deleted successfully.\n"
     ]
    }
   ],
   "source": [
    "try:\n",
    "    with engine.connect() as connection:\n",
    "        \n",
    "        connection.execute(\n",
    "            text(\"\"\"\n",
    "            DELETE FROM Customers\n",
    "            WHERE FirstName = :firstname AND LastName = :lastname\n",
    "        \"\"\"),\n",
    "            {\"firstname\": \"Alice\", \"lastname\": \"Brown\"}\n",
    "        )\n",
    "\n",
    "        connection.commit()\n",
    "        print(\"Customer deleted successfully.\")\n",
    "except Exception as e:\n",
    "    print(\"Error deleting customer:\", e)"
   ]
  }
 ],
 "metadata": {
  "kernelspec": {
   "display_name": "Python 3",
   "language": "python",
   "name": "python3"
  },
  "language_info": {
   "codemirror_mode": {
    "name": "ipython",
    "version": 3
   },
   "file_extension": ".py",
   "mimetype": "text/x-python",
   "name": "python",
   "nbconvert_exporter": "python",
   "pygments_lexer": "ipython3",
   "version": "3.12.3"
  }
 },
 "nbformat": 4,
 "nbformat_minor": 5
}
