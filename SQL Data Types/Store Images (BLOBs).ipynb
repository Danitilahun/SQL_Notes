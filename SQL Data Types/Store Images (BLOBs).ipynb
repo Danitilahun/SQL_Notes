{
 "cells": [
  {
   "cell_type": "code",
   "execution_count": 1,
   "id": "97dbff0d",
   "metadata": {},
   "outputs": [],
   "source": [
    "from sqlalchemy import create_engine, text\n",
    "from tabulate import tabulate"
   ]
  },
  {
   "cell_type": "code",
   "execution_count": 2,
   "id": "0b3809af",
   "metadata": {},
   "outputs": [],
   "source": [
    "DB_USER = \"myuser\"\n",
    "DB_PASS = \"mypassword\"\n",
    "DB_HOST = \"localhost\"\n",
    "DB_PORT = \"5432\"\n",
    "DB_NAME = \"mydb\""
   ]
  },
  {
   "cell_type": "code",
   "execution_count": 3,
   "id": "83b86488",
   "metadata": {},
   "outputs": [],
   "source": [
    "DATABASE_URL = f\"postgresql://{DB_USER}:{DB_PASS}@{DB_HOST}:{DB_PORT}/{DB_NAME}\""
   ]
  },
  {
   "cell_type": "code",
   "execution_count": 4,
   "id": "6663735e",
   "metadata": {},
   "outputs": [],
   "source": [
    "engine = create_engine(DATABASE_URL)"
   ]
  },
  {
   "cell_type": "code",
   "execution_count": 5,
   "id": "0d75c897",
   "metadata": {},
   "outputs": [],
   "source": [
    "def execute_sql(sql_statement):\n",
    "    try:\n",
    "        with engine.connect() as connection:\n",
    "            connection.execute(text(sql_statement))\n",
    "            connection.commit()\n",
    "            print(f\"SQL statement executed successfully:\\n{sql_statement}\")\n",
    "    except Exception as e:\n",
    "        print(f\"Error executing SQL statement:\\n{sql_statement}\\nError: {e}\")"
   ]
  },
  {
   "cell_type": "code",
   "execution_count": 6,
   "id": "e5022a5e",
   "metadata": {},
   "outputs": [
    {
     "name": "stdout",
     "output_type": "stream",
     "text": [
      "SQL statement executed successfully:\n",
      "\n",
      "    CREATE TABLE IF NOT EXISTS Images (\n",
      "        image_id SERIAL PRIMARY KEY,\n",
      "        image_name VARCHAR(255),\n",
      "        image_data BYTEA  -- For storing the image data\n",
      "    );\n",
      "\n"
     ]
    }
   ],
   "source": [
    "execute_sql(\"\"\"\n",
    "    CREATE TABLE IF NOT EXISTS Images (\n",
    "        image_id SERIAL PRIMARY KEY,\n",
    "        image_name VARCHAR(255),\n",
    "        image_data BYTEA  -- For storing the image data\n",
    "    );\n",
    "\"\"\")"
   ]
  },
  {
   "cell_type": "markdown",
   "id": "29d2fff6",
   "metadata": {},
   "source": [
    "### Read Image Data from a File"
   ]
  },
  {
   "cell_type": "code",
   "execution_count": null,
   "id": "9cc8737b",
   "metadata": {},
   "outputs": [],
   "source": [
    "def read_image_data(image_path):\n",
    "    \"\"\"Reads binary image data from a file.\"\"\"\n",
    "    try:\n",
    "        with open(image_path, 'rb') as image_file:\n",
    "            image_data = image_file.read()\n",
    "        return image_data\n",
    "    except FileNotFoundError:\n",
    "        print(f\"Error: File not found at path: {image_path}\")\n",
    "        return None\n",
    "    except Exception as e:\n",
    "        print(f\"Error reading image: {e}\")\n",
    "        return None"
   ]
  },
  {
   "cell_type": "markdown",
   "id": "086254c5",
   "metadata": {},
   "source": [
    "### Insert the Image Data into the Database"
   ]
  },
  {
   "cell_type": "code",
   "execution_count": 8,
   "id": "fd99ca3e",
   "metadata": {},
   "outputs": [],
   "source": [
    "def insert_image(image_path, image_name):\n",
    "    image_data = read_image_data(image_path)\n",
    "\n",
    "    if image_data:\n",
    "        try:\n",
    "            with engine.connect() as connection:\n",
    "                connection.execute(\n",
    "                    text(\"\"\"\n",
    "                        INSERT INTO Images (image_name, image_data)\n",
    "                        VALUES (:image_name, :image_data)\n",
    "                    \"\"\"),\n",
    "                    {\"image_name\": image_name, \"image_data\": image_data}\n",
    "                )\n",
    "                connection.commit()\n",
    "                print(f\"Image '{image_name}' inserted successfully.\")\n",
    "        except Exception as e:\n",
    "            print(f\"Error inserting image: {e}\")"
   ]
  },
  {
   "cell_type": "code",
   "execution_count": 9,
   "id": "0ffaa5c0",
   "metadata": {},
   "outputs": [
    {
     "name": "stdout",
     "output_type": "stream",
     "text": [
      "Image 'test.jpg' inserted successfully.\n"
     ]
    }
   ],
   "source": [
    "image_path = \"test.jpg\"\n",
    "image_name = \"test.jpg\"\n",
    "insert_image(image_path, image_name)"
   ]
  },
  {
   "cell_type": "markdown",
   "id": "49c9b700",
   "metadata": {},
   "source": [
    "### Retrieving the Image (Example)"
   ]
  },
  {
   "cell_type": "code",
   "execution_count": null,
   "id": "033aa19c",
   "metadata": {},
   "outputs": [],
   "source": [
    "def retrieve_image(image_id):\n",
    "    try:\n",
    "        with engine.connect() as connection:\n",
    "            result = connection.execute(\n",
    "                text(\"\"\"\n",
    "                    SELECT image_data, image_name\n",
    "                    FROM Images\n",
    "                    WHERE image_id = :image_id\n",
    "                \"\"\"),\n",
    "                {\"image_id\": image_id}\n",
    "            )\n",
    "            row = result.fetchone()\n",
    "\n",
    "            if row:\n",
    "                image_data = row[0]\n",
    "                image_name = row[1]\n",
    "\n",
    "                with open(f\"retrieved_{image_name}\", 'wb') as image_file:\n",
    "                    image_file.write(image_data)\n",
    "                print(f\"Image with ID {image_id} retrieved and saved to retrieved_{image_name}\")\n",
    "            else:\n",
    "                print(f\"Image with ID {image_id} not found.\")\n",
    "\n",
    "    except Exception as e:\n",
    "        print(f\"Error retrieving image: {e}\")"
   ]
  },
  {
   "cell_type": "code",
   "execution_count": 11,
   "id": "d35b943d",
   "metadata": {},
   "outputs": [
    {
     "name": "stdout",
     "output_type": "stream",
     "text": [
      "Image with ID 1 retrieved and saved to retrieved_test.jpg\n"
     ]
    }
   ],
   "source": [
    "retrieve_image(1)"
   ]
  }
 ],
 "metadata": {
  "kernelspec": {
   "display_name": "Python 3",
   "language": "python",
   "name": "python3"
  },
  "language_info": {
   "codemirror_mode": {
    "name": "ipython",
    "version": 3
   },
   "file_extension": ".py",
   "mimetype": "text/x-python",
   "name": "python",
   "nbconvert_exporter": "python",
   "pygments_lexer": "ipython3",
   "version": "3.12.3"
  }
 },
 "nbformat": 4,
 "nbformat_minor": 5
}
