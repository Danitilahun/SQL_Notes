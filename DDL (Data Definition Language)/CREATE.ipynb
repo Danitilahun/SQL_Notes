{
 "cells": [
  {
   "cell_type": "code",
   "execution_count": 14,
   "id": "3cc5c899",
   "metadata": {},
   "outputs": [
    {
     "name": "stdout",
     "output_type": "stream",
     "text": [
      "Requirement already satisfied: sqlalchemy in c:\\users\\tiled\\appdata\\local\\programs\\python\\python312\\lib\\site-packages (2.0.29)\n",
      "Collecting tabulate\n",
      "  Using cached tabulate-0.9.0-py3-none-any.whl.metadata (34 kB)\n",
      "Requirement already satisfied: typing-extensions>=4.6.0 in c:\\users\\tiled\\appdata\\local\\programs\\python\\python312\\lib\\site-packages (from sqlalchemy) (4.12.2)\n",
      "Requirement already satisfied: greenlet!=0.4.17 in c:\\users\\tiled\\appdata\\local\\programs\\python\\python312\\lib\\site-packages (from sqlalchemy) (3.0.3)\n",
      "Using cached tabulate-0.9.0-py3-none-any.whl (35 kB)\n",
      "Installing collected packages: tabulate\n",
      "Successfully installed tabulate-0.9.0\n"
     ]
    },
    {
     "name": "stderr",
     "output_type": "stream",
     "text": [
      "WARNING: Ignoring invalid distribution ~atplotlib (C:\\Users\\tiled\\AppData\\Local\\Programs\\Python\\Python312\\Lib\\site-packages)\n",
      "WARNING: Ignoring invalid distribution ~ocial-auth-core (C:\\Users\\tiled\\AppData\\Local\\Programs\\Python\\Python312\\Lib\\site-packages)\n",
      "WARNING: Ignoring invalid distribution ~atplotlib (C:\\Users\\tiled\\AppData\\Local\\Programs\\Python\\Python312\\Lib\\site-packages)\n",
      "WARNING: Ignoring invalid distribution ~ocial-auth-core (C:\\Users\\tiled\\AppData\\Local\\Programs\\Python\\Python312\\Lib\\site-packages)\n",
      "WARNING: Ignoring invalid distribution ~atplotlib (C:\\Users\\tiled\\AppData\\Local\\Programs\\Python\\Python312\\Lib\\site-packages)\n",
      "WARNING: Ignoring invalid distribution ~ocial-auth-core (C:\\Users\\tiled\\AppData\\Local\\Programs\\Python\\Python312\\Lib\\site-packages)\n"
     ]
    }
   ],
   "source": [
    "! pip install sqlalchemy tabulate"
   ]
  },
  {
   "cell_type": "code",
   "execution_count": 15,
   "id": "dc526984",
   "metadata": {},
   "outputs": [],
   "source": [
    "from sqlalchemy import create_engine, text\n",
    "from tabulate import tabulate"
   ]
  },
  {
   "cell_type": "markdown",
   "id": "4b10760a",
   "metadata": {},
   "source": [
    "### Database credentials"
   ]
  },
  {
   "cell_type": "code",
   "execution_count": 1,
   "id": "cd072fc9",
   "metadata": {},
   "outputs": [],
   "source": [
    "DB_USER = \"myuser\"\n",
    "DB_PASS = \"mypassword\"\n",
    "DB_HOST = \"localhost\"\n",
    "DB_PORT = \"5432\"\n",
    "DB_NAME = \"mydb\""
   ]
  },
  {
   "cell_type": "markdown",
   "id": "56920351",
   "metadata": {},
   "source": [
    "### Construct the database URL"
   ]
  },
  {
   "cell_type": "code",
   "execution_count": 2,
   "id": "7d0b74c6",
   "metadata": {},
   "outputs": [],
   "source": [
    "DATABASE_URL = f\"postgresql://{DB_USER}:{DB_PASS}@{DB_HOST}:{DB_PORT}/{DB_NAME}\""
   ]
  },
  {
   "cell_type": "code",
   "execution_count": 5,
   "id": "562bac4f",
   "metadata": {},
   "outputs": [],
   "source": [
    "engine = create_engine(DATABASE_URL)"
   ]
  },
  {
   "cell_type": "markdown",
   "id": "a0479373",
   "metadata": {},
   "source": [
    "### Test the connection"
   ]
  },
  {
   "cell_type": "code",
   "execution_count": 6,
   "id": "3b53ef72",
   "metadata": {},
   "outputs": [
    {
     "name": "stdout",
     "output_type": "stream",
     "text": [
      "Connection successful: 1\n"
     ]
    }
   ],
   "source": [
    "try:\n",
    "    with engine.connect() as connection:\n",
    "        result = connection.execute(text(\"SELECT 1\"))\n",
    "        print(\"Connection successful:\", result.scalar())\n",
    "except Exception as e:\n",
    "    print(\"Connection failed:\", e)\n",
    "    raise "
   ]
  },
  {
   "cell_type": "markdown",
   "id": "1fdc3dde",
   "metadata": {},
   "source": [
    "# --- CREATE DATABASE OBJECTS ---"
   ]
  },
  {
   "cell_type": "markdown",
   "id": "50e91cd8",
   "metadata": {},
   "source": [
    "## 1. Create Table"
   ]
  },
  {
   "cell_type": "code",
   "execution_count": 21,
   "id": "eb723fe7",
   "metadata": {},
   "outputs": [
    {
     "name": "stdout",
     "output_type": "stream",
     "text": [
      "Table 'Customers' dropped (if it existed).\n"
     ]
    }
   ],
   "source": [
    "try:\n",
    "    with engine.connect() as connection:\n",
    "        connection.execute(text(\"DROP TABLE IF EXISTS Customers;\"))\n",
    "        connection.commit()\n",
    "        print(\"Table 'Customers' dropped (if it existed).\")\n",
    "except Exception as e:\n",
    "    print(\"Error dropping table:\", e)"
   ]
  },
  {
   "cell_type": "code",
   "execution_count": 22,
   "id": "901c3263",
   "metadata": {},
   "outputs": [
    {
     "name": "stdout",
     "output_type": "stream",
     "text": [
      "Table 'Customers' created successfully.\n"
     ]
    }
   ],
   "source": [
    "try:\n",
    "    with engine.connect() as connection:\n",
    "        connection.execute(text(\"\"\"\n",
    "            CREATE TABLE Customers (\n",
    "                CustomerID SERIAL PRIMARY KEY,\n",
    "                FirstName VARCHAR(255),\n",
    "                LastName VARCHAR(255),\n",
    "                Email VARCHAR(255) UNIQUE\n",
    "            );\n",
    "        \"\"\"))\n",
    "        connection.commit()\n",
    "        print(\"Table 'Customers' created successfully.\")\n",
    "except Exception as e:\n",
    "    print(\"Error creating table:\", e)"
   ]
  },
  {
   "cell_type": "markdown",
   "id": "6f303de5",
   "metadata": {},
   "source": [
    "### Check "
   ]
  },
  {
   "cell_type": "code",
   "execution_count": 23,
   "id": "7b341da3",
   "metadata": {},
   "outputs": [
    {
     "name": "stdout",
     "output_type": "stream",
     "text": [
      "Data inserted into Customers table.\n"
     ]
    }
   ],
   "source": [
    "try:\n",
    "    with engine.connect() as connection:\n",
    "        connection.execute(text(\"\"\"\n",
    "            INSERT INTO Customers (FirstName, LastName, Email) VALUES\n",
    "            ('John', 'Doe', 'john.doe@example.com'),\n",
    "            ('Jane', 'Smith', 'jane.smith@example.com');\n",
    "        \"\"\"))\n",
    "        connection.commit()\n",
    "        print(\"Data inserted into Customers table.\")\n",
    "except Exception as e:\n",
    "    print(\"Error inserting data:\", e)"
   ]
  },
  {
   "cell_type": "code",
   "execution_count": 24,
   "id": "d7fca97c",
   "metadata": {},
   "outputs": [
    {
     "name": "stdout",
     "output_type": "stream",
     "text": [
      "+--------------+-------------+------------+------------------------+\n",
      "|   customerid | firstname   | lastname   | email                  |\n",
      "+==============+=============+============+========================+\n",
      "|            1 | John        | Doe        | john.doe@example.com   |\n",
      "+--------------+-------------+------------+------------------------+\n",
      "|            2 | Jane        | Smith      | jane.smith@example.com |\n",
      "+--------------+-------------+------------+------------------------+\n"
     ]
    }
   ],
   "source": [
    "try:\n",
    "    with engine.connect() as connection:\n",
    "        result = connection.execute(text(\"SELECT * FROM Customers\"))\n",
    "\n",
    "        rows = result.fetchall()\n",
    "\n",
    "        column_names = result.keys()\n",
    "\n",
    "        table = tabulate(rows, headers=column_names, tablefmt=\"grid\")\n",
    "\n",
    "        print(table)\n",
    "\n",
    "except Exception as e:\n",
    "    print(\"Error querying table:\", e)"
   ]
  },
  {
   "cell_type": "markdown",
   "id": "dc074ccb",
   "metadata": {},
   "source": [
    "## 2. Create Index"
   ]
  },
  {
   "cell_type": "markdown",
   "id": "0c593566",
   "metadata": {},
   "source": [
    "### Database Indexing\n",
    "\n",
    "**What is it?**\n",
    "\n",
    "An index is a special data structure that databases use to speed up data retrieval.\n",
    "\n",
    "**Purpose:**\n",
    "\n",
    "*   **Speed up queries:** Indexes drastically improve the performance of `SELECT` queries, especially those with `WHERE` clauses that filter data.\n",
    "*   **Faster sorting & grouping:** Indexes can speed up `ORDER BY` and `GROUP BY` operations.\n",
    "\n",
    "\n",
    "**Trade-offs:**\n",
    "\n",
    "*   **Increased storage space:** Indexes consume disk space.\n",
    "*   **Slower write operations:** `INSERT`, `UPDATE`, and `DELETE` operations can be slower because the index must be updated along with the table data.\n",
    "\n",
    "**In short: Indexes make reads faster but writes slower, using more storage space. Use them wisely!**"
   ]
  },
  {
   "cell_type": "code",
   "execution_count": 36,
   "id": "d0bd38fd",
   "metadata": {},
   "outputs": [
    {
     "name": "stdout",
     "output_type": "stream",
     "text": [
      "Index 'idx_Email' created successfully.\n"
     ]
    }
   ],
   "source": [
    "try:\n",
    "    with engine.connect() as connection:\n",
    "        connection.execute(text(\"\"\"\n",
    "            DROP INDEX IF EXISTS idx_Email;\n",
    "        \"\"\"))\n",
    "        \n",
    "        connection.execute(text(\"\"\"\n",
    "            CREATE INDEX idx_Email ON Customers (Email);\n",
    "        \"\"\"))\n",
    "        \n",
    "        connection.commit()\n",
    "        print(\"Index 'idx_Email' created successfully.\")\n",
    "        \n",
    "except Exception as e:\n",
    "    print(\"Error creating index:\", e)"
   ]
  },
  {
   "cell_type": "markdown",
   "id": "2aab1b82",
   "metadata": {},
   "source": [
    "## 3. Create View"
   ]
  },
  {
   "cell_type": "markdown",
   "id": "f8c28ec7",
   "metadata": {},
   "source": [
    "### Database Views\n",
    "\n",
    "**What is it?**\n",
    "\n",
    "A view is a virtual table based on the result-set of an SQL query. It doesn't store data physically; instead, it stores the *query* that defines how the data is derived from one or more underlying tables.\n",
    "\n",
    "**Purpose:**\n",
    "\n",
    "*   **Simplified queries:** Views hide the complexity of underlying table structures and complex joins, presenting a simplified and focused data representation to users.\n",
    "*   **Data security:** Views can restrict access to certain columns or rows of a table, providing a security layer by exposing only the necessary data to specific users or applications.\n",
    "*   **Data consistency:** Views ensure that all users see the same data based on the defined query, maintaining consistency across different applications.\n",
    "*   **Data abstraction:**  Views decouple applications from the underlying table structure. If the table structure changes, you can often update the view's query without affecting the applications that use the view.\n",
    "*   **Improved readability:** Complex queries can be encapsulated in views, making the code more readable and maintainable.\n",
    "\n",
    "**Key Characteristics:**\n",
    "\n",
    "*   **Virtual:** Views don't store data physically.\n",
    "*   **Dynamic:** Data in a view is always up-to-date, reflecting the current data in the underlying tables.\n",
    "*   **Read-Only (typically):**  While some databases allow updating views under certain conditions, views are generally considered read-only. You usually update the underlying tables directly, and the view reflects those changes.\n",
    "\n",
    "**In short: Views are pre-defined queries that simplify data access, provide security, and improve code readability.**"
   ]
  },
  {
   "cell_type": "code",
   "execution_count": 35,
   "id": "1ba5eb4a",
   "metadata": {},
   "outputs": [
    {
     "name": "stdout",
     "output_type": "stream",
     "text": [
      "View 'CustomerView' created successfully.\n"
     ]
    }
   ],
   "source": [
    "try:\n",
    "    with engine.connect() as connection:\n",
    "        connection.execute(text(\"\"\"\n",
    "            DROP VIEW IF EXISTS CustomerView;\n",
    "        \"\"\"))\n",
    "         \n",
    "        connection.execute(text(\"\"\"\n",
    "            CREATE VIEW CustomerView AS\n",
    "            SELECT CustomerID, FirstName, LastName\n",
    "            FROM Customers;\n",
    "        \"\"\"))\n",
    "        connection.commit()\n",
    "        print(\"View 'CustomerView' created successfully.\")\n",
    "except Exception as e:\n",
    "    print(\"Error creating view:\", e)"
   ]
  },
  {
   "cell_type": "code",
   "execution_count": 37,
   "id": "31e53eeb",
   "metadata": {},
   "outputs": [
    {
     "name": "stdout",
     "output_type": "stream",
     "text": [
      "+--------------+-------------+------------+\n",
      "|   customerid | firstname   | lastname   |\n",
      "+==============+=============+============+\n",
      "|            1 | John        | Doe        |\n",
      "+--------------+-------------+------------+\n",
      "|            2 | Jane        | Smith      |\n",
      "+--------------+-------------+------------+\n"
     ]
    }
   ],
   "source": [
    "try:\n",
    "    with engine.connect() as connection:\n",
    "        result = connection.execute(text(\"SELECT * FROM CustomerView\"))\n",
    "        rows = result.fetchall()\n",
    "        column_names = result.keys()\n",
    "        table = tabulate(rows, headers=column_names, tablefmt=\"grid\")\n",
    "        print(table)\n",
    "\n",
    "except Exception as e:\n",
    "    print(\"Error querying CustomerView:\", e)"
   ]
  }
 ],
 "metadata": {
  "kernelspec": {
   "display_name": "Python 3",
   "language": "python",
   "name": "python3"
  },
  "language_info": {
   "codemirror_mode": {
    "name": "ipython",
    "version": 3
   },
   "file_extension": ".py",
   "mimetype": "text/x-python",
   "name": "python",
   "nbconvert_exporter": "python",
   "pygments_lexer": "ipython3",
   "version": "3.12.3"
  }
 },
 "nbformat": 4,
 "nbformat_minor": 5
}
