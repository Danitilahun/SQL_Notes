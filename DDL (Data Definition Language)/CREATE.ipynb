{
 "cells": [
  {
   "cell_type": "code",
   "execution_count": 14,
   "id": "3cc5c899",
   "metadata": {},
   "outputs": [
    {
     "name": "stdout",
     "output_type": "stream",
     "text": [
      "Requirement already satisfied: sqlalchemy in c:\\users\\tiled\\appdata\\local\\programs\\python\\python312\\lib\\site-packages (2.0.29)\n",
      "Collecting tabulate\n",
      "  Using cached tabulate-0.9.0-py3-none-any.whl.metadata (34 kB)\n",
      "Requirement already satisfied: typing-extensions>=4.6.0 in c:\\users\\tiled\\appdata\\local\\programs\\python\\python312\\lib\\site-packages (from sqlalchemy) (4.12.2)\n",
      "Requirement already satisfied: greenlet!=0.4.17 in c:\\users\\tiled\\appdata\\local\\programs\\python\\python312\\lib\\site-packages (from sqlalchemy) (3.0.3)\n",
      "Using cached tabulate-0.9.0-py3-none-any.whl (35 kB)\n",
      "Installing collected packages: tabulate\n",
      "Successfully installed tabulate-0.9.0\n"
     ]
    },
    {
     "name": "stderr",
     "output_type": "stream",
     "text": [
      "WARNING: Ignoring invalid distribution ~atplotlib (C:\\Users\\tiled\\AppData\\Local\\Programs\\Python\\Python312\\Lib\\site-packages)\n",
      "WARNING: Ignoring invalid distribution ~ocial-auth-core (C:\\Users\\tiled\\AppData\\Local\\Programs\\Python\\Python312\\Lib\\site-packages)\n",
      "WARNING: Ignoring invalid distribution ~atplotlib (C:\\Users\\tiled\\AppData\\Local\\Programs\\Python\\Python312\\Lib\\site-packages)\n",
      "WARNING: Ignoring invalid distribution ~ocial-auth-core (C:\\Users\\tiled\\AppData\\Local\\Programs\\Python\\Python312\\Lib\\site-packages)\n",
      "WARNING: Ignoring invalid distribution ~atplotlib (C:\\Users\\tiled\\AppData\\Local\\Programs\\Python\\Python312\\Lib\\site-packages)\n",
      "WARNING: Ignoring invalid distribution ~ocial-auth-core (C:\\Users\\tiled\\AppData\\Local\\Programs\\Python\\Python312\\Lib\\site-packages)\n"
     ]
    }
   ],
   "source": [
    "! pip install sqlalchemy tabulate"
   ]
  },
  {
   "cell_type": "code",
   "execution_count": 15,
   "id": "dc526984",
   "metadata": {},
   "outputs": [],
   "source": [
    "from sqlalchemy import create_engine, text\n",
    "from tabulate import tabulate"
   ]
  },
  {
   "cell_type": "markdown",
   "id": "4b10760a",
   "metadata": {},
   "source": [
    "### Database credentials"
   ]
  },
  {
   "cell_type": "code",
   "execution_count": null,
   "id": "cd072fc9",
   "metadata": {},
   "outputs": [],
   "source": [
    "DB_USER = \"myuser\"\n",
    "DB_PASS = \"mypassword\"\n",
    "DB_HOST = \"localhost\"\n",
    "DB_PORT = \"5432\"\n",
    "DB_NAME = \"mydb\""
   ]
  },
  {
   "cell_type": "markdown",
   "id": "56920351",
   "metadata": {},
   "source": [
    "### Construct the database URL"
   ]
  },
  {
   "cell_type": "code",
   "execution_count": 2,
   "id": "7d0b74c6",
   "metadata": {},
   "outputs": [],
   "source": [
    "DATABASE_URL = f\"postgresql://{DB_USER}:{DB_PASS}@{DB_HOST}:{DB_PORT}/{DB_NAME}\""
   ]
  },
  {
   "cell_type": "code",
   "execution_count": 5,
   "id": "562bac4f",
   "metadata": {},
   "outputs": [],
   "source": [
    "engine = create_engine(DATABASE_URL)"
   ]
  },
  {
   "cell_type": "markdown",
   "id": "a0479373",
   "metadata": {},
   "source": [
    "### Test the connection"
   ]
  },
  {
   "cell_type": "code",
   "execution_count": 6,
   "id": "3b53ef72",
   "metadata": {},
   "outputs": [
    {
     "name": "stdout",
     "output_type": "stream",
     "text": [
      "Connection successful: 1\n"
     ]
    }
   ],
   "source": [
    "try:\n",
    "    with engine.connect() as connection:\n",
    "        result = connection.execute(text(\"SELECT 1\"))\n",
    "        print(\"Connection successful:\", result.scalar())\n",
    "except Exception as e:\n",
    "    print(\"Connection failed:\", e)\n",
    "    raise "
   ]
  },
  {
   "cell_type": "markdown",
   "id": "1fdc3dde",
   "metadata": {},
   "source": [
    "# --- CREATE DATABASE OBJECTS ---"
   ]
  },
  {
   "cell_type": "markdown",
   "id": "50e91cd8",
   "metadata": {},
   "source": [
    "## 1. Create Table"
   ]
  },
  {
   "cell_type": "code",
   "execution_count": 22,
   "id": "901c3263",
   "metadata": {},
   "outputs": [
    {
     "name": "stdout",
     "output_type": "stream",
     "text": [
      "Table 'Customers' created successfully.\n"
     ]
    }
   ],
   "source": [
    "try:\n",
    "    with engine.connect() as connection:\n",
    "        connection.execute(text(\"DROP TABLE IF EXISTS Customers;\"))\n",
    "         \n",
    "        connection.execute(text(\"\"\"\n",
    "            CREATE TABLE Customers (\n",
    "                CustomerID SERIAL PRIMARY KEY,\n",
    "                FirstName VARCHAR(255),\n",
    "                LastName VARCHAR(255),\n",
    "                Email VARCHAR(255) UNIQUE\n",
    "            );\n",
    "        \"\"\"))\n",
    "        \n",
    "        connection.commit()\n",
    "        print(\"Table 'Customers' created successfully.\")\n",
    "except Exception as e:\n",
    "    print(\"Error creating table:\", e)"
   ]
  },
  {
   "cell_type": "markdown",
   "id": "6f303de5",
   "metadata": {},
   "source": [
    "### Check "
   ]
  },
  {
   "cell_type": "code",
   "execution_count": 23,
   "id": "7b341da3",
   "metadata": {},
   "outputs": [
    {
     "name": "stdout",
     "output_type": "stream",
     "text": [
      "Data inserted into Customers table.\n"
     ]
    }
   ],
   "source": [
    "try:\n",
    "    with engine.connect() as connection:\n",
    "        \n",
    "        connection.execute(text(\"\"\"\n",
    "            INSERT INTO Customers (FirstName, LastName, Email) VALUES\n",
    "            ('John', 'Doe', 'john.doe@example.com'),\n",
    "            ('Jane', 'Smith', 'jane.smith@example.com');\n",
    "        \"\"\"))\n",
    "        \n",
    "        connection.commit()\n",
    "        \n",
    "        print(\"Data inserted into Customers table.\")\n",
    "except Exception as e:\n",
    "    print(\"Error inserting data:\", e)"
   ]
  },
  {
   "cell_type": "code",
   "execution_count": 24,
   "id": "d7fca97c",
   "metadata": {},
   "outputs": [
    {
     "name": "stdout",
     "output_type": "stream",
     "text": [
      "+--------------+-------------+------------+------------------------+\n",
      "|   customerid | firstname   | lastname   | email                  |\n",
      "+==============+=============+============+========================+\n",
      "|            1 | John        | Doe        | john.doe@example.com   |\n",
      "+--------------+-------------+------------+------------------------+\n",
      "|            2 | Jane        | Smith      | jane.smith@example.com |\n",
      "+--------------+-------------+------------+------------------------+\n"
     ]
    }
   ],
   "source": [
    "try:\n",
    "    with engine.connect() as connection:\n",
    "        result = connection.execute(text(\"SELECT * FROM Customers\"))\n",
    "\n",
    "        rows = result.fetchall()\n",
    "\n",
    "        column_names = result.keys()\n",
    "\n",
    "        table = tabulate(rows, headers=column_names, tablefmt=\"grid\")\n",
    "\n",
    "        print(table)\n",
    "\n",
    "except Exception as e:\n",
    "    print(\"Error querying table:\", e)"
   ]
  },
  {
   "cell_type": "markdown",
   "id": "dc074ccb",
   "metadata": {},
   "source": [
    "## 2. Create Index"
   ]
  },
  {
   "cell_type": "markdown",
   "id": "0c593566",
   "metadata": {},
   "source": [
    "### Database Indexing\n",
    "\n",
    "**What is it?**\n",
    "\n",
    "An index is a special data structure that databases use to speed up data retrieval.\n",
    "\n",
    "**Purpose:**\n",
    "\n",
    "*   **Speed up queries:** Indexes drastically improve the performance of `SELECT` queries, especially those with `WHERE` clauses that filter data.\n",
    "*   **Faster sorting & grouping:** Indexes can speed up `ORDER BY` and `GROUP BY` operations.\n",
    "\n",
    "\n",
    "**Trade-offs:**\n",
    "\n",
    "*   **Increased storage space:** Indexes consume disk space.\n",
    "*   **Slower write operations:** `INSERT`, `UPDATE`, and `DELETE` operations can be slower because the index must be updated along with the table data.\n",
    "\n",
    "**In short: Indexes make reads faster but writes slower, using more storage space. Use them wisely!**"
   ]
  },
  {
   "cell_type": "code",
   "execution_count": 36,
   "id": "d0bd38fd",
   "metadata": {},
   "outputs": [
    {
     "name": "stdout",
     "output_type": "stream",
     "text": [
      "Index 'idx_Email' created successfully.\n"
     ]
    }
   ],
   "source": [
    "try:\n",
    "    with engine.connect() as connection:\n",
    "        connection.execute(text(\"\"\"\n",
    "            DROP INDEX IF EXISTS idx_Email;\n",
    "        \"\"\"))\n",
    "        \n",
    "        connection.execute(text(\"\"\"\n",
    "            CREATE INDEX idx_Email ON Customers (Email);\n",
    "        \"\"\"))\n",
    "        \n",
    "        connection.commit()\n",
    "        print(\"Index 'idx_Email' created successfully.\")\n",
    "        \n",
    "except Exception as e:\n",
    "    print(\"Error creating index:\", e)"
   ]
  },
  {
   "cell_type": "markdown",
   "id": "2aab1b82",
   "metadata": {},
   "source": [
    "## 3. Create View"
   ]
  },
  {
   "cell_type": "markdown",
   "id": "f8c28ec7",
   "metadata": {},
   "source": [
    "### Database Views\n",
    "\n",
    "**What is it?**\n",
    "\n",
    "A view is a virtual table based on the result-set of an SQL query. It doesn't store data physically; instead, it stores the *query* that defines how the data is derived from one or more underlying tables.\n",
    "\n",
    "**Purpose:**\n",
    "\n",
    "*   **Simplified queries:** Views hide the complexity of underlying table structures and complex joins, presenting a simplified and focused data representation to users.\n",
    "*   **Data security:** Views can restrict access to certain columns or rows of a table, providing a security layer by exposing only the necessary data to specific users or applications.\n",
    "*   **Data consistency:** Views ensure that all users see the same data based on the defined query, maintaining consistency across different applications.\n",
    "*   **Data abstraction:**  Views decouple applications from the underlying table structure. If the table structure changes, you can often update the view's query without affecting the applications that use the view.\n",
    "*   **Improved readability:** Complex queries can be encapsulated in views, making the code more readable and maintainable.\n",
    "\n",
    "**Key Characteristics:**\n",
    "\n",
    "*   **Virtual:** Views don't store data physically.\n",
    "*   **Dynamic:** Data in a view is always up-to-date, reflecting the current data in the underlying tables.\n",
    "*   **Read-Only (typically):**  While some databases allow updating views under certain conditions, views are generally considered read-only. You usually update the underlying tables directly, and the view reflects those changes.\n",
    "\n",
    "**In short: Views are pre-defined queries that simplify data access, provide security, and improve code readability.**"
   ]
  },
  {
   "cell_type": "code",
   "execution_count": 35,
   "id": "1ba5eb4a",
   "metadata": {},
   "outputs": [
    {
     "name": "stdout",
     "output_type": "stream",
     "text": [
      "View 'CustomerView' created successfully.\n"
     ]
    }
   ],
   "source": [
    "try:\n",
    "    with engine.connect() as connection:\n",
    "        connection.execute(text(\"\"\"\n",
    "            DROP VIEW IF EXISTS CustomerView;\n",
    "        \"\"\"))\n",
    "         \n",
    "        connection.execute(text(\"\"\"\n",
    "            CREATE VIEW CustomerView AS\n",
    "            SELECT CustomerID, FirstName, LastName\n",
    "            FROM Customers;\n",
    "        \"\"\"))\n",
    "        connection.commit()\n",
    "        print(\"View 'CustomerView' created successfully.\")\n",
    "except Exception as e:\n",
    "    print(\"Error creating view:\", e)"
   ]
  },
  {
   "cell_type": "code",
   "execution_count": 43,
   "id": "31e53eeb",
   "metadata": {},
   "outputs": [
    {
     "name": "stdout",
     "output_type": "stream",
     "text": [
      "+--------------+-------------+------------+\n",
      "|   customerid | firstname   | lastname   |\n",
      "+==============+=============+============+\n",
      "|            1 | John        | Doe        |\n",
      "+--------------+-------------+------------+\n",
      "|            2 | Jane        | Smith      |\n",
      "+--------------+-------------+------------+\n"
     ]
    }
   ],
   "source": [
    "try:\n",
    "    with engine.connect() as connection:\n",
    "        \n",
    "        result = connection.execute(text(\"SELECT * FROM CustomerView\"))\n",
    "        \n",
    "        rows = result.fetchall()\n",
    "        \n",
    "        column_names = result.keys()\n",
    "        \n",
    "        table = tabulate(rows, headers=column_names, tablefmt=\"grid\")\n",
    "        \n",
    "        print(table)\n",
    "\n",
    "except Exception as e:\n",
    "    print(\"Error querying CustomerView:\", e)"
   ]
  },
  {
   "cell_type": "markdown",
   "id": "e986c860",
   "metadata": {},
   "source": [
    "## 4. Create Stored Procedure"
   ]
  },
  {
   "cell_type": "markdown",
   "id": "fe31dd65",
   "metadata": {},
   "source": [
    "## Stored Procedures (PostgreSQL: Functions)\n",
    "\n",
    "**What is it?**\n",
    "\n",
    "A pre-compiled set of SQL statements that are stored in the database and can be executed as a single unit. In PostgreSQL, these are called *functions*.\n",
    "\n",
    "**Purpose:**\n",
    "\n",
    "*   **Code reusability:** Execute the same set of SQL statements multiple times without rewriting them.\n",
    "*   **Improved performance:** Stored procedures are pre-compiled, which can improve performance compared to executing the same SQL statements individually.\n",
    "*   **Data integrity:** Enforce business rules and data validation within the procedure.\n",
    "*   **Security:** Grant permissions to execute the procedure without granting direct access to the underlying tables.\n",
    "*   **Abstraction:** Hide complex database logic from applications.\n",
    "\n",
    "**Key Characteristics:**\n",
    "\n",
    "*   Stored in the database.\n",
    "*   Pre-compiled (generally).\n",
    "*   Can accept input parameters and return output values.\n",
    "*   Executed using a special command (e.g., `CALL` or `SELECT function_name()`).\n",
    "*   Written in a procedural language (like PL/pgSQL in PostgreSQL).\n",
    "\n",
    "**In short: Stored procedures are reusable, pre-compiled blocks of SQL code that enhance performance, security, and code organization.**"
   ]
  },
  {
   "cell_type": "markdown",
   "id": "66f9d40f",
   "metadata": {},
   "source": [
    "### --- CREATE FUNCTION ---"
   ]
  },
  {
   "cell_type": "code",
   "execution_count": 44,
   "id": "e3f2b0ff",
   "metadata": {},
   "outputs": [
    {
     "name": "stdout",
     "output_type": "stream",
     "text": [
      "Function 'GetCustomerByID' created successfully.\n"
     ]
    }
   ],
   "source": [
    "try:\n",
    "    with engine.connect() as connection:\n",
    "        \n",
    "        connection.execute(text(\"\"\"\n",
    "            DROP FUNCTION IF EXISTS GetCustomerByID(INT);\n",
    "        \"\"\"))\n",
    "\n",
    "        connection.execute(text(\"\"\"\n",
    "            CREATE OR REPLACE FUNCTION GetCustomerByID (p_custID INT)\n",
    "            RETURNS TABLE (CustomerID INT, FirstName VARCHAR(255), LastName VARCHAR(255), Email VARCHAR(255)) AS $$\n",
    "            BEGIN\n",
    "                RETURN QUERY SELECT * FROM Customers WHERE Customers.CustomerID = p_custID;\n",
    "            END;\n",
    "            $$ LANGUAGE plpgsql;\n",
    "        \"\"\"))\n",
    "        \n",
    "        connection.commit()\n",
    "        \n",
    "        print(\"Function 'GetCustomerByID' created successfully.\")\n",
    "        \n",
    "except Exception as e:\n",
    "    print(\"Error creating function:\", e)"
   ]
  },
  {
   "cell_type": "code",
   "execution_count": 45,
   "id": "853263f3",
   "metadata": {},
   "outputs": [
    {
     "name": "stdout",
     "output_type": "stream",
     "text": [
      "+--------------+-------------+------------+----------------------+\n",
      "|   customerid | firstname   | lastname   | email                |\n",
      "+==============+=============+============+======================+\n",
      "|            1 | John        | Doe        | john.doe@example.com |\n",
      "+--------------+-------------+------------+----------------------+\n"
     ]
    }
   ],
   "source": [
    "try:\n",
    "    with engine.connect() as connection:\n",
    "        result = connection.execute(text(\"\"\"\n",
    "            SELECT * FROM GetCustomerByID(:custID)\n",
    "        \"\"\"), {\"custID\": 1})\n",
    "\n",
    "        rows = result.fetchall()\n",
    "        column_names = result.keys()\n",
    "        table = tabulate(rows, headers=column_names, tablefmt=\"grid\")\n",
    "        print(table)\n",
    "\n",
    "except Exception as e:\n",
    "    print(\"Error using function:\", e)"
   ]
  },
  {
   "cell_type": "markdown",
   "id": "243b3a5c",
   "metadata": {},
   "source": [
    "## 5. Create Schema"
   ]
  },
  {
   "cell_type": "markdown",
   "id": "8fd6408b",
   "metadata": {},
   "source": [
    "### Database Schemas\n",
    "\n",
    "**What is it?**\n",
    "\n",
    "A schema is a named collection of database objects (tables, views, functions, etc.).  Think of it as a namespace or a folder for organizing related objects within a single database.\n",
    "\n",
    "**Purpose:**\n",
    "\n",
    "*   **Organization:** Group related tables and other objects together, making the database easier to manage.\n",
    "*   **Security:** Control access to groups of objects by granting permissions at the schema level.\n",
    "*   **Namespace Management:**  Avoid naming conflicts when different applications or users need to use the same table names.\n",
    "*   **Multi-tenancy (sometimes):**  In some cases, schemas can be used to separate data for different tenants in a multi-tenant application.\n",
    "\n",
    "**Key Characteristics:**\n",
    "\n",
    "*   A logical grouping of database objects.\n",
    "*   Has a name.\n",
    "*   Permissions can be granted at the schema level.\n",
    "*   Objects within a schema are accessed using the schema name (e.g., `sales_schema.Customers`).\n",
    "*   PostgreSQL has a default schema called `public`.\n",
    "\n",
    "**In short: Schemas provide a way to organize database objects, enhance security, and avoid naming conflicts.**"
   ]
  },
  {
   "cell_type": "code",
   "execution_count": 46,
   "id": "901305bb",
   "metadata": {},
   "outputs": [
    {
     "name": "stdout",
     "output_type": "stream",
     "text": [
      "Schema 'sales_schema' created successfully.\n"
     ]
    }
   ],
   "source": [
    "try:\n",
    "    with engine.connect() as connection:\n",
    "        connection.execute(text(\"\"\"\n",
    "            DROP SCHEMA IF EXISTS sales_schema CASCADE;\n",
    "        \"\"\"))\n",
    "         \n",
    "        connection.execute(text(\"\"\"\n",
    "            CREATE SCHEMA sales_schema;\n",
    "        \"\"\"))\n",
    "        \n",
    "        connection.commit()\n",
    "        \n",
    "        print(\"Schema 'sales_schema' created successfully.\")\n",
    "except Exception as e:\n",
    "    print(\"Error creating schema:\", e)"
   ]
  },
  {
   "cell_type": "code",
   "execution_count": 47,
   "id": "42048cfe",
   "metadata": {},
   "outputs": [
    {
     "name": "stdout",
     "output_type": "stream",
     "text": [
      "Table 'Orders' created in 'sales_schema'.\n",
      "Data inserted into 'sales_schema.Orders'.\n",
      "+-----------+--------------+-------------+\n",
      "|   orderid |   customerid | orderdate   |\n",
      "+===========+==============+=============+\n",
      "|         1 |            1 | 2023-01-01  |\n",
      "+-----------+--------------+-------------+\n",
      "|         2 |            2 | 2023-01-05  |\n",
      "+-----------+--------------+-------------+\n"
     ]
    }
   ],
   "source": [
    "try:\n",
    "    with engine.connect() as connection:\n",
    "        \n",
    "        connection.execute(text(\"\"\"\n",
    "            CREATE TABLE sales_schema.Orders (\n",
    "                OrderID SERIAL PRIMARY KEY,\n",
    "                CustomerID INT,\n",
    "                OrderDate DATE\n",
    "            );\n",
    "        \"\"\"))\n",
    "        \n",
    "        connection.commit()\n",
    "        print(\"Table 'Orders' created in 'sales_schema'.\")\n",
    "\n",
    "        # Insert data into the table\n",
    "        connection.execute(text(\"\"\"\n",
    "            INSERT INTO sales_schema.Orders (CustomerID, OrderDate) VALUES\n",
    "            (1, '2023-01-01'),\n",
    "            (2, '2023-01-05');\n",
    "        \"\"\"))\n",
    "        connection.commit()\n",
    "        print(\"Data inserted into 'sales_schema.Orders'.\")\n",
    "\n",
    "        # Query the table\n",
    "        result = connection.execute(text(\"SELECT * FROM sales_schema.Orders\"))\n",
    "        rows = result.fetchall()\n",
    "        column_names = result.keys()\n",
    "        table = tabulate(rows, headers=column_names, tablefmt=\"grid\")\n",
    "        print(table)\n",
    "\n",
    "except Exception as e:\n",
    "    print(\"Error using schema (creating/querying table):\", e)"
   ]
  },
  {
   "cell_type": "markdown",
   "id": "2def408d",
   "metadata": {},
   "source": [
    "## 6. Create User"
   ]
  },
  {
   "cell_type": "markdown",
   "id": "f1471d37",
   "metadata": {},
   "source": [
    "## Database Users\n",
    "\n",
    "**What is it?**\n",
    "\n",
    "A database user represents an entity (person, application, service) that can connect to and interact with the database. Users are authenticated (usually with a username and password) to verify their identity and authorized to access specific database objects (tables, views, schemas, etc.) based on granted permissions.\n",
    "\n",
    "**Purpose:**\n",
    "\n",
    "*   **Authentication:** Verify the identity of the entity connecting to the database.\n",
    "*   **Authorization:** Control which database objects a user can access and what actions they can perform (e.g., `SELECT`, `INSERT`, `UPDATE`, `DELETE`, `CREATE`).\n",
    "*   **Security:** Limit access to sensitive data and prevent unauthorized modifications.\n",
    "*   **Auditing:** Track user activity in the database for auditing and compliance purposes.\n",
    "\n",
    "**Key Characteristics:**\n",
    "\n",
    "*   Has a username and (usually) a password.\n",
    "*   Can be granted specific privileges.\n",
    "*   Can be a member of one or more roles (groups).\n",
    "*   Connect to the database using a specific connection string.\n",
    "\n",
    "**Common SQL Commands (Generally):**\n",
    "\n",
    "*   **Create User:**\n",
    "    ```sql\n",
    "    CREATE USER username WITH PASSWORD 'password';\n",
    "    ```\n",
    "*   **Drop User:**\n",
    "    ```sql\n",
    "    DROP USER username;\n",
    "    ```\n",
    "*   **Grant Privileges:**\n",
    "    ```sql\n",
    "    GRANT SELECT, INSERT ON table_name TO username;\n",
    "    ```\n",
    "*   **Revoke Privileges:**\n",
    "    ```sql\n",
    "    REVOKE SELECT, INSERT ON table_name FROM username;\n",
    "    ```\n",
    "*   **Alter User (Change Password):**\n",
    "    ```sql\n",
    "    ALTER USER username WITH PASSWORD 'new_password';\n",
    "    ```\n",
    "*   **Connect to Database (as a User):** (This is outside of SQL - in your application or connection string)\n",
    "    *   You'd specify the username and password in your database connection string (e.g., in SQLAlchemy, JDBC, etc.).\n",
    "\n",
    "**In short: Database users are essential for security, controlling access, and auditing activity within the database.**"
   ]
  },
  {
   "cell_type": "markdown",
   "id": "333926f6",
   "metadata": {},
   "source": [
    "### --- CREATE USER ---"
   ]
  },
  {
   "cell_type": "code",
   "execution_count": 48,
   "id": "4b6024df",
   "metadata": {},
   "outputs": [
    {
     "name": "stdout",
     "output_type": "stream",
     "text": [
      "User 'testuser' created successfully.\n"
     ]
    }
   ],
   "source": [
    "try:\n",
    "    with engine.connect() as connection:\n",
    "        connection.execute(text(\"\"\"\n",
    "            DROP USER IF EXISTS testuser;\n",
    "        \"\"\"))\n",
    "        \n",
    "        connection.execute(text(\"\"\"\n",
    "            CREATE USER testuser WITH PASSWORD 'password';\n",
    "        \"\"\"))\n",
    "        \n",
    "        connection.commit()\n",
    "        \n",
    "        print(\"User 'testuser' created successfully.\")\n",
    "        \n",
    "except Exception as e:\n",
    "    print(\"Error creating user:\", e)"
   ]
  },
  {
   "cell_type": "markdown",
   "id": "5ee1f8bc",
   "metadata": {},
   "source": [
    "### --- GRANT PRIVILEGES ---"
   ]
  },
  {
   "cell_type": "code",
   "execution_count": 49,
   "id": "540e8960",
   "metadata": {},
   "outputs": [
    {
     "name": "stdout",
     "output_type": "stream",
     "text": [
      "Privileges granted to 'testuser'.\n"
     ]
    }
   ],
   "source": [
    "try:\n",
    "    with engine.connect() as connection:\n",
    "        \n",
    "        connection.execute(text(\"\"\"\n",
    "            GRANT SELECT ON ALL TABLES IN SCHEMA public TO testuser;\n",
    "        \"\"\"))\n",
    "        \n",
    "        connection.execute(text(\"\"\"\n",
    "            GRANT USAGE ON SCHEMA public TO testuser;\n",
    "        \"\"\")) \n",
    "        \n",
    "        connection.commit()\n",
    "        \n",
    "        print(\"Privileges granted to 'testuser'.\")\n",
    "        \n",
    "except Exception as e:\n",
    "    print(\"Error granting privileges:\", e)"
   ]
  },
  {
   "cell_type": "code",
   "execution_count": 50,
   "id": "26e1f269",
   "metadata": {},
   "outputs": [],
   "source": [
    "NEW_DB_USER = \"testuser\"\n",
    "NEW_DB_PASS = \"password\""
   ]
  },
  {
   "cell_type": "code",
   "execution_count": 51,
   "id": "47b34d01",
   "metadata": {},
   "outputs": [],
   "source": [
    "NEW_DATABASE_URL = f\"postgresql://{NEW_DB_USER}:{NEW_DB_PASS}@{DB_HOST}:{DB_PORT}/{DB_NAME}\"\n",
    "new_engine = create_engine(NEW_DATABASE_URL)"
   ]
  },
  {
   "cell_type": "code",
   "execution_count": 52,
   "id": "da09be0f",
   "metadata": {},
   "outputs": [
    {
     "name": "stdout",
     "output_type": "stream",
     "text": [
      "Access Customers as 'testuser':\n",
      " +--------------+-------------+------------+------------------------+\n",
      "|   customerid | firstname   | lastname   | email                  |\n",
      "+==============+=============+============+========================+\n",
      "|            1 | John        | Doe        | john.doe@example.com   |\n",
      "+--------------+-------------+------------+------------------------+\n",
      "|            2 | Jane        | Smith      | jane.smith@example.com |\n",
      "+--------------+-------------+------------+------------------------+\n"
     ]
    }
   ],
   "source": [
    "try:\n",
    "    with new_engine.connect() as new_connection:\n",
    "        new_result = new_connection.execute(text(\"SELECT * FROM Customers\"))\n",
    "\n",
    "        rows = new_result.fetchall()\n",
    "        column_names = new_result.keys()\n",
    "        table = tabulate(rows, headers=column_names, tablefmt=\"grid\")\n",
    "        print(\"Access Customers as 'testuser':\\n\", table)\n",
    "\n",
    "\n",
    "except Exception as e:\n",
    "    print(\"Error accessing Customers table as 'testuser':\", e)"
   ]
  },
  {
   "cell_type": "markdown",
   "id": "281b2cb1",
   "metadata": {},
   "source": [
    "### Checking Access Permissions: Sales Schema - Test User"
   ]
  },
  {
   "cell_type": "code",
   "execution_count": 53,
   "id": "9f024ff7",
   "metadata": {},
   "outputs": [
    {
     "name": "stdout",
     "output_type": "stream",
     "text": [
      "User could NOT access table in 'sales_schema' (as expected): (psycopg2.errors.InsufficientPrivilege) permission denied for schema sales_schema\n",
      "LINE 1: SELECT * FROM sales_schema.Orders\n",
      "                      ^\n",
      "\n",
      "[SQL: SELECT * FROM sales_schema.Orders]\n",
      "(Background on this error at: https://sqlalche.me/e/20/f405)\n"
     ]
    }
   ],
   "source": [
    "try:\n",
    "    with new_engine.connect() as new_connection:\n",
    "\n",
    "        new_result = new_connection.execute(text(\"SELECT * FROM sales_schema.Orders\"))\n",
    "        \n",
    "        rows = new_result.fetchall()\n",
    "        \n",
    "        column_names = new_result.keys()\n",
    "        \n",
    "        table = tabulate(rows, headers=column_names, tablefmt=\"grid\")\n",
    "        \n",
    "        print(\"Success on Sales Schema\")\n",
    "        print(\"Test user could successfully access Sales schema\\n\", table)\n",
    "        for row in new_result:\n",
    "            print(row)\n",
    "\n",
    "except Exception as e:\n",
    "    print(\"User could NOT access table in 'sales_schema' (as expected):\", e)"
   ]
  }
 ],
 "metadata": {
  "kernelspec": {
   "display_name": "Python 3",
   "language": "python",
   "name": "python3"
  },
  "language_info": {
   "codemirror_mode": {
    "name": "ipython",
    "version": 3
   },
   "file_extension": ".py",
   "mimetype": "text/x-python",
   "name": "python",
   "nbconvert_exporter": "python",
   "pygments_lexer": "ipython3",
   "version": "3.12.3"
  }
 },
 "nbformat": 4,
 "nbformat_minor": 5
}
