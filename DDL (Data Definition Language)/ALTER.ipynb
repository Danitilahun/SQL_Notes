{
 "cells": [
  {
   "cell_type": "code",
   "execution_count": 1,
   "id": "f6f49f17",
   "metadata": {},
   "outputs": [],
   "source": [
    "from sqlalchemy import create_engine, text\n",
    "from tabulate import tabulate"
   ]
  },
  {
   "cell_type": "code",
   "execution_count": 2,
   "id": "596ec9dd",
   "metadata": {},
   "outputs": [],
   "source": [
    "DB_USER = \"myuser\"\n",
    "DB_PASS = \"mypassword\"\n",
    "DB_HOST = \"localhost\"\n",
    "DB_PORT = \"5432\"\n",
    "DB_NAME = \"mydb\""
   ]
  },
  {
   "cell_type": "code",
   "execution_count": 3,
   "id": "8387c40b",
   "metadata": {},
   "outputs": [],
   "source": [
    "DATABASE_URL = f\"postgresql://{DB_USER}:{DB_PASS}@{DB_HOST}:{DB_PORT}/{DB_NAME}\""
   ]
  },
  {
   "cell_type": "code",
   "execution_count": 4,
   "id": "d3c87d25",
   "metadata": {},
   "outputs": [],
   "source": [
    "engine = create_engine(DATABASE_URL)"
   ]
  },
  {
   "cell_type": "code",
   "execution_count": 15,
   "id": "c99f00da",
   "metadata": {},
   "outputs": [
    {
     "name": "stdout",
     "output_type": "stream",
     "text": [
      "Table 'Customers' created successfully.\n"
     ]
    }
   ],
   "source": [
    "try:\n",
    "    with engine.connect() as connection:\n",
    "        connection.execute(text(\"DROP TABLE IF EXISTS Customers CASCADE;\"))\n",
    "         \n",
    "        connection.execute(text(\"\"\"\n",
    "            CREATE TABLE Customers (\n",
    "                CustomerID SERIAL PRIMARY KEY,\n",
    "                FirstName VARCHAR(255),\n",
    "                LastName VARCHAR(255),\n",
    "                Email VARCHAR(255) UNIQUE\n",
    "            );\n",
    "        \"\"\"))\n",
    "        \n",
    "        connection.commit()\n",
    "        print(\"Table 'Customers' created successfully.\")\n",
    "except Exception as e:\n",
    "    print(\"Error creating table:\", e)"
   ]
  },
  {
   "cell_type": "markdown",
   "id": "82c9c30d",
   "metadata": {},
   "source": [
    "### Adding Columns"
   ]
  },
  {
   "cell_type": "code",
   "execution_count": null,
   "id": "b84b1bf9",
   "metadata": {},
   "outputs": [],
   "source": [
    "try:\n",
    "    with engine.connect() as connection:\n",
    "        \n",
    "        connection.execute(text(\"\"\"\n",
    "            ALTER TABLE Customers \n",
    "            ADD UserName VARCHAR(255) UNIQUE;\n",
    "        \"\"\"))\n",
    "        \n",
    "        connection.commit()\n",
    "        \n",
    "        print(\"UserName attribute/field added in Customers table.\")\n",
    "except Exception as e:\n",
    "    print(\"Error inserting data:\", e)"
   ]
  },
  {
   "cell_type": "code",
   "execution_count": 11,
   "id": "1f356673",
   "metadata": {},
   "outputs": [
    {
     "name": "stdout",
     "output_type": "stream",
     "text": [
      "('customerid', 'integer')\n",
      "('firstname', 'character varying')\n",
      "('lastname', 'character varying')\n",
      "('email', 'character varying')\n",
      "('username', 'character varying')\n"
     ]
    }
   ],
   "source": [
    "try:\n",
    "    with engine.connect() as connection:\n",
    "        \n",
    "        result = connection.execute(text(\"\"\"\n",
    "            SELECT column_name, data_type\n",
    "            FROM INFORMATION_SCHEMA.COLUMNS\n",
    "            WHERE table_name = 'customers';  -- Note the lowercase table name\n",
    "        \"\"\"))\n",
    "        for row in result:\n",
    "            print(row) \n",
    "    \n",
    "except Exception as e:\n",
    "    print(\"Error inserting data:\", e)"
   ]
  },
  {
   "cell_type": "markdown",
   "id": "b55223ce",
   "metadata": {},
   "source": [
    "### Dropping Columns"
   ]
  },
  {
   "cell_type": "code",
   "execution_count": 12,
   "id": "c973b878",
   "metadata": {},
   "outputs": [
    {
     "name": "stdout",
     "output_type": "stream",
     "text": [
      "UserName attribute/field dropped from Customers table.\n"
     ]
    }
   ],
   "source": [
    "try:\n",
    "    with engine.connect() as connection:\n",
    "        \n",
    "        connection.execute(text(\"\"\"\n",
    "            ALTER TABLE Customers \n",
    "            DROP COLUMN UserName;\n",
    "        \"\"\"))\n",
    "        \n",
    "        connection.commit()\n",
    "        \n",
    "        print(\"UserName attribute/field dropped from Customers table.\")\n",
    "except Exception as e:\n",
    "    print(\"Error inserting data:\", e)"
   ]
  },
  {
   "cell_type": "code",
   "execution_count": 13,
   "id": "09113ae5",
   "metadata": {},
   "outputs": [
    {
     "name": "stdout",
     "output_type": "stream",
     "text": [
      "('customerid', 'integer')\n",
      "('firstname', 'character varying')\n",
      "('lastname', 'character varying')\n",
      "('email', 'character varying')\n"
     ]
    }
   ],
   "source": [
    "try:\n",
    "    with engine.connect() as connection:\n",
    "        \n",
    "        result = connection.execute(text(\"\"\"\n",
    "            SELECT column_name, data_type\n",
    "            FROM INFORMATION_SCHEMA.COLUMNS\n",
    "            WHERE table_name = 'customers';  -- Note the lowercase table name\n",
    "        \"\"\"))\n",
    "        for row in result:\n",
    "            print(row) \n",
    "    \n",
    "except Exception as e:\n",
    "    print(\"Error inserting data:\", e)"
   ]
  },
  {
   "cell_type": "markdown",
   "id": "3db33d90",
   "metadata": {},
   "source": [
    "### Modifying Column Data Types"
   ]
  },
  {
   "cell_type": "code",
   "execution_count": 17,
   "id": "b38949b5",
   "metadata": {},
   "outputs": [
    {
     "name": "stdout",
     "output_type": "stream",
     "text": [
      "FirstName data type modified to VARCHAR(100).\n"
     ]
    }
   ],
   "source": [
    "try:\n",
    "    with engine.connect() as connection:\n",
    "        \n",
    "        connection.execute(text(\"\"\"\n",
    "            ALTER TABLE Customers\n",
    "            ALTER COLUMN FirstName TYPE VARCHAR(100)\n",
    "        \"\"\"))\n",
    "        \n",
    "        print(\"FirstName data type modified to VARCHAR(100).\")\n",
    "    \n",
    "except Exception as e:\n",
    "    print(\"Error inserting data:\", e)"
   ]
  }
 ],
 "metadata": {
  "kernelspec": {
   "display_name": "Python 3",
   "language": "python",
   "name": "python3"
  },
  "language_info": {
   "codemirror_mode": {
    "name": "ipython",
    "version": 3
   },
   "file_extension": ".py",
   "mimetype": "text/x-python",
   "name": "python",
   "nbconvert_exporter": "python",
   "pygments_lexer": "ipython3",
   "version": "3.12.3"
  }
 },
 "nbformat": 4,
 "nbformat_minor": 5
}
