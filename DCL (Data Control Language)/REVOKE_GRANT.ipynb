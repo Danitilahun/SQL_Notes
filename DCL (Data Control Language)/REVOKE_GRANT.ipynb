{
 "cells": [
  {
   "cell_type": "code",
   "execution_count": 6,
   "id": "94c91487",
   "metadata": {},
   "outputs": [],
   "source": [
    "import sqlalchemy\n",
    "from sqlalchemy import create_engine, text\n",
    "from tabulate import tabulate"
   ]
  },
  {
   "cell_type": "code",
   "execution_count": 2,
   "id": "c2c4a781",
   "metadata": {},
   "outputs": [],
   "source": [
    "DB_USER = \"myuser\"\n",
    "DB_PASS = \"mypassword\"\n",
    "DB_HOST = \"localhost\"\n",
    "DB_PORT = \"5432\"\n",
    "DB_NAME = \"mydb\""
   ]
  },
  {
   "cell_type": "code",
   "execution_count": 3,
   "id": "bc14c9fe",
   "metadata": {},
   "outputs": [],
   "source": [
    "DATABASE_URL = f\"postgresql://{DB_USER}:{DB_PASS}@{DB_HOST}:{DB_PORT}/{DB_NAME}\""
   ]
  },
  {
   "cell_type": "code",
   "execution_count": 4,
   "id": "8940c23f",
   "metadata": {},
   "outputs": [],
   "source": [
    "engine = create_engine(DATABASE_URL)"
   ]
  },
  {
   "cell_type": "markdown",
   "id": "cfabbddf",
   "metadata": {},
   "source": [
    "### Function to execute SQL statements safely"
   ]
  },
  {
   "cell_type": "code",
   "execution_count": 7,
   "id": "0e09fb09",
   "metadata": {},
   "outputs": [],
   "source": [
    "def execute_sql(sql_statement):\n",
    "    try:\n",
    "        with engine.connect() as connection:\n",
    "            connection.execute(text(sql_statement))\n",
    "            connection.commit()\n",
    "            print(f\"SQL statement executed successfully:\\n{sql_statement}\")\n",
    "    except sqlalchemy.exc.ProgrammingError as e:\n",
    "        print(f\"Error executing SQL statement:\\n{sql_statement}\\nError: {e}\")\n",
    "    except Exception as e:\n",
    "        print(f\"An unexpected error occurred:\\n{sql_statement}\\nError: {e}\")"
   ]
  },
  {
   "cell_type": "markdown",
   "id": "b50b3f42",
   "metadata": {},
   "source": [
    "### 1. Create Tables"
   ]
  },
  {
   "cell_type": "code",
   "execution_count": 8,
   "id": "098b7a14",
   "metadata": {},
   "outputs": [
    {
     "name": "stdout",
     "output_type": "stream",
     "text": [
      "SQL statement executed successfully:\n",
      "\n",
      "    CREATE TABLE IF NOT EXISTS Employees (\n",
      "        employee_id SERIAL PRIMARY KEY,\n",
      "        name VARCHAR(255),\n",
      "        department VARCHAR(255)\n",
      "    );\n",
      "\n"
     ]
    }
   ],
   "source": [
    "execute_sql(\"\"\"\n",
    "    CREATE TABLE IF NOT EXISTS Employees (\n",
    "        employee_id SERIAL PRIMARY KEY,\n",
    "        name VARCHAR(255),\n",
    "        department VARCHAR(255)\n",
    "    );\n",
    "\"\"\")"
   ]
  },
  {
   "cell_type": "code",
   "execution_count": 9,
   "id": "f8f5322e",
   "metadata": {},
   "outputs": [
    {
     "name": "stdout",
     "output_type": "stream",
     "text": [
      "SQL statement executed successfully:\n",
      "\n",
      "    CREATE TABLE IF NOT EXISTS Salaries (\n",
      "        salary_id SERIAL PRIMARY KEY,\n",
      "        employee_id INT REFERENCES Employees(employee_id),\n",
      "        salary DECIMAL(10, 2),\n",
      "        pay_date DATE\n",
      "    );\n",
      "\n"
     ]
    }
   ],
   "source": [
    "execute_sql(\"\"\"\n",
    "    CREATE TABLE IF NOT EXISTS Salaries (\n",
    "        salary_id SERIAL PRIMARY KEY,\n",
    "        employee_id INT REFERENCES Employees(employee_id),\n",
    "        salary DECIMAL(10, 2),\n",
    "        pay_date DATE\n",
    "    );\n",
    "\"\"\")"
   ]
  },
  {
   "cell_type": "markdown",
   "id": "657be6c6",
   "metadata": {},
   "source": [
    "### 2. Create Roles"
   ]
  },
  {
   "cell_type": "code",
   "execution_count": 14,
   "id": "d508bb70",
   "metadata": {},
   "outputs": [
    {
     "name": "stdout",
     "output_type": "stream",
     "text": [
      "SQL statement executed successfully:\n",
      "CREATE ROLE analyst;\n"
     ]
    }
   ],
   "source": [
    "execute_sql(\"CREATE ROLE analyst;\")"
   ]
  },
  {
   "cell_type": "code",
   "execution_count": 15,
   "id": "a514c4d2",
   "metadata": {},
   "outputs": [
    {
     "name": "stdout",
     "output_type": "stream",
     "text": [
      "SQL statement executed successfully:\n",
      "CREATE ROLE data_admin;\n"
     ]
    }
   ],
   "source": [
    "execute_sql(\"CREATE ROLE data_admin;\")"
   ]
  },
  {
   "cell_type": "markdown",
   "id": "1b62dd0a",
   "metadata": {},
   "source": [
    "### 3. Create Users and Grant Membership to Roles\n"
   ]
  },
  {
   "cell_type": "code",
   "execution_count": 17,
   "id": "7caf9528",
   "metadata": {},
   "outputs": [
    {
     "name": "stdout",
     "output_type": "stream",
     "text": [
      "SQL statement executed successfully:\n",
      "CREATE USER analysis_user WITH PASSWORD 'secure_password';\n",
      "SQL statement executed successfully:\n",
      "GRANT analyst TO analysis_user;\n"
     ]
    }
   ],
   "source": [
    "execute_sql(\"CREATE USER analysis_user WITH PASSWORD 'secure_password';\")\n",
    "execute_sql(\"GRANT analyst TO analysis_user;\")"
   ]
  },
  {
   "cell_type": "code",
   "execution_count": 18,
   "id": "e60af16c",
   "metadata": {},
   "outputs": [
    {
     "name": "stdout",
     "output_type": "stream",
     "text": [
      "SQL statement executed successfully:\n",
      "CREATE USER admin_user WITH PASSWORD 'secure_password';\n",
      "SQL statement executed successfully:\n",
      "GRANT data_admin TO admin_user;\n"
     ]
    }
   ],
   "source": [
    "execute_sql(\"CREATE USER admin_user WITH PASSWORD 'secure_password';\")\n",
    "execute_sql(\"GRANT data_admin TO admin_user;\")"
   ]
  },
  {
   "cell_type": "markdown",
   "id": "d2667696",
   "metadata": {},
   "source": [
    "### 4. Grant Privileges (Data Access)"
   ]
  },
  {
   "cell_type": "code",
   "execution_count": 19,
   "id": "1be2a07b",
   "metadata": {},
   "outputs": [
    {
     "name": "stdout",
     "output_type": "stream",
     "text": [
      "SQL statement executed successfully:\n",
      "GRANT SELECT ON Employees, Salaries TO analyst;\n"
     ]
    }
   ],
   "source": [
    "# Analyst Role: Read-only access to Employees and Salaries tables\n",
    "execute_sql(\"GRANT SELECT ON Employees, Salaries TO analyst;\")"
   ]
  },
  {
   "cell_type": "code",
   "execution_count": 20,
   "id": "89c8918e",
   "metadata": {},
   "outputs": [
    {
     "name": "stdout",
     "output_type": "stream",
     "text": [
      "SQL statement executed successfully:\n",
      "GRANT SELECT, INSERT, UPDATE, DELETE ON Employees TO data_admin;\n"
     ]
    }
   ],
   "source": [
    "# Data Admin Role: Full access to Employees table\n",
    "execute_sql(\"GRANT SELECT, INSERT, UPDATE, DELETE ON Employees TO data_admin;\")"
   ]
  },
  {
   "cell_type": "code",
   "execution_count": 21,
   "id": "b62b2153",
   "metadata": {},
   "outputs": [
    {
     "name": "stdout",
     "output_type": "stream",
     "text": [
      "SQL statement executed successfully:\n",
      "GRANT SELECT, INSERT ON Salaries TO data_admin;\n"
     ]
    }
   ],
   "source": [
    "# Data Admin Role: Limited access to Salaries table (only SELECT and INSERT)\n",
    "execute_sql(\"GRANT SELECT, INSERT ON Salaries TO data_admin;\") # Removed Update, Delete"
   ]
  },
  {
   "cell_type": "markdown",
   "id": "68b2e9c4",
   "metadata": {},
   "source": [
    "### 5.  Revoke Privileges"
   ]
  },
  {
   "cell_type": "code",
   "execution_count": 23,
   "id": "fc0fa1e0",
   "metadata": {},
   "outputs": [
    {
     "name": "stdout",
     "output_type": "stream",
     "text": [
      "SQL statement executed successfully:\n",
      "REVOKE SELECT (name) ON Employees FROM analyst;\n"
     ]
    }
   ],
   "source": [
    "# Let's say we want to prevent the analyst from seeing the employee names.\n",
    "execute_sql(\"REVOKE SELECT (name) ON Employees FROM analyst;\")"
   ]
  },
  {
   "cell_type": "code",
   "execution_count": 24,
   "id": "1ef0bb05",
   "metadata": {},
   "outputs": [
    {
     "name": "stdout",
     "output_type": "stream",
     "text": [
      "SQL statement executed successfully:\n",
      "REVOKE ALL PRIVILEGES ON Salaries FROM analyst;\n"
     ]
    }
   ],
   "source": [
    "# Additional Revoke Example: Remove all access to Salaries from analyst\n",
    "execute_sql(\"REVOKE ALL PRIVILEGES ON Salaries FROM analyst;\")"
   ]
  },
  {
   "cell_type": "markdown",
   "id": "ba8f960f",
   "metadata": {},
   "source": [
    "### Drop the user and role"
   ]
  },
  {
   "cell_type": "code",
   "execution_count": 25,
   "id": "41fc0bcd",
   "metadata": {},
   "outputs": [
    {
     "name": "stdout",
     "output_type": "stream",
     "text": [
      "SQL statement executed successfully:\n",
      "REVOKE analyst FROM analysis_user;\n",
      "SQL statement executed successfully:\n",
      "DROP USER IF EXISTS analysis_user;\n"
     ]
    }
   ],
   "source": [
    "execute_sql(\"REVOKE analyst FROM analysis_user;\")\n",
    "execute_sql(\"DROP USER IF EXISTS analysis_user;\")"
   ]
  },
  {
   "cell_type": "code",
   "execution_count": null,
   "id": "db4d2e25",
   "metadata": {},
   "outputs": [],
   "source": [
    "execute_sql(\"REVOKE data_admin FROM admin_user;\")\n",
    "execute_sql(\"DROP USER admin_user;\")\n",
    "execute_sql(\"DROP ROLE analyst;\")\n",
    "execute_sql(\"DROP ROLE data_admin;\")"
   ]
  },
  {
   "cell_type": "markdown",
   "id": "eb74d670",
   "metadata": {},
   "source": [
    "### Drop tables"
   ]
  },
  {
   "cell_type": "code",
   "execution_count": 28,
   "id": "f98a873f",
   "metadata": {},
   "outputs": [
    {
     "name": "stdout",
     "output_type": "stream",
     "text": [
      "SQL statement executed successfully:\n",
      "DROP TABLE IF EXISTS Salaries;\n",
      "SQL statement executed successfully:\n",
      "DROP TABLE IF EXISTS Employees;\n"
     ]
    }
   ],
   "source": [
    "execute_sql(\"DROP TABLE IF EXISTS Salaries;\")\n",
    "execute_sql(\"DROP TABLE IF EXISTS Employees;\")"
   ]
  }
 ],
 "metadata": {
  "kernelspec": {
   "display_name": "Python 3",
   "language": "python",
   "name": "python3"
  },
  "language_info": {
   "codemirror_mode": {
    "name": "ipython",
    "version": 3
   },
   "file_extension": ".py",
   "mimetype": "text/x-python",
   "name": "python",
   "nbconvert_exporter": "python",
   "pygments_lexer": "ipython3",
   "version": "3.12.3"
  }
 },
 "nbformat": 4,
 "nbformat_minor": 5
}
